{
 "cells": [
  {
   "cell_type": "code",
   "execution_count": 1,
   "metadata": {},
   "outputs": [],
   "source": [
    "import pandas as pd\n",
    "import numpy as np\n",
    "pd.set_option('display.float_format', lambda x: '%.2f' % x)"
   ]
  },
  {
   "cell_type": "markdown",
   "metadata": {},
   "source": [
    "#### формирование таблицы с полями из слайда 5 с историческими данными\n",
    "#### источники: файл \"pop_per_year.xlsx\" (статистический демографический сборник Укрстата)-\n",
    "#### - количество населения Украины на каждом году жизни с 2012 по 2018 год\n",
    "#### \"WPP2017_TotalPopulationBySex.csv\" - прогноз \n"
   ]
  },
  {
   "cell_type": "code",
   "execution_count": 2,
   "metadata": {},
   "outputs": [],
   "source": [
    "pop=pd.read_excel('data/pop_per_year.xlsx')#с 2012 по 2018 по годам жизни мужчины и женщины"
   ]
  },
  {
   "cell_type": "code",
   "execution_count": 3,
   "metadata": {},
   "outputs": [],
   "source": [
    "#исторические данные\n",
    "#http://database.ukrcensus.gov.ua/MULT/Dialog/statfile_c_files/pasport.files/pasport/00_uk.htm#0301\n",
    "#http://database.ukrcensus.gov.ua/PXWEB2007/ukr/publ_new1/2018/zb_dy_2017.pdf\n",
    "\n",
    "pomerlyh=pd.Series([754460,706739,698235,664588,663139,662368,632296,594796,583631,574123],\\\n",
    "                   index=list(np.arange(2008,2018)),name='Померлих')\n",
    "pomer_na_1000_nas=pd.Series([16.3,15.3,15.2,14.5,14.5,14.6,14.7,14.9,14.7,14.5],\\\n",
    "                            index=list(np.arange(2008,2018)),name='Померлих на 1000 населення')\n",
    "zhivonar=pd.Series([510589,512525,497689,502595,520705,503657,465882,411781,397037,363987],\\\n",
    "                   index=list(np.arange(2008,2018)),name='Живонароджених')\n",
    "zhivonar_na_1000_nas=pd.Series([11.0,11.1,10.8,11.0,11.4,11.1,10.8,10.7,10.3,9.4],\\\n",
    "                               index=list(np.arange(2008,2018)),name='Живонароджених на 1000 населення')\n",
    "naselennya_vse=pd.Series([46372664,46143714,45962947,45778534,45633637,45553047,45426249,42929298,42760516,42584542,42386403],\\\n",
    "                         index=list(np.arange(2008,2019)),name='Населення України')\n",
    "miske_nas=pd.Series([31668757,31587203,31524795,31441649,31380874,31378639,31336623,29673113,29584952,29482313,29370995],\\\n",
    "                    index=list(np.arange(2008,2019)),name='Міське населення')\n",
    "silske_nas=pd.Series([14703907,14556511,14438152,14336885,14252763,14174408,14089626,13256185,13175564,13102229,13015408],\\\n",
    "                     index=list(np.arange(2008,2019)),name='Сільське населення')\n",
    "zhivonar_m=pd.Series([263588,264844,256835,259433,268748,259738,240043,212846,205194,187528],\\\n",
    "                    index=list(np.arange(2008,2018)),name='Живонароджених чоловіків')\n",
    "zhivonar_f=pd.Series([247001,247681,240854,243162,251957,243919,225839,198935,191843,176459],\\\n",
    "                    index=list(np.arange(2008,2018)),name='Живонароджених жінок')\n",
    "mertvonar_all=pd.Series([3416,3351,3300,3158,3230,3166,2820,2437,2244,2136],\\\n",
    "                       index=list(np.arange(2008,2018)),name='Мертвонароджених')\n",
    "mertvonar_m=pd.Series([1801,1821,1719,1649,1734,1683,1502,1322,1159,1090],\\\n",
    "                     index=list(np.arange(2008,2018)),name='Мертвонароджених чоловіків')\n",
    "\n",
    "mertvonar_f=pd.Series([1615,1530,1581,1509,1496,1483,1318,1115,1085,1046],\\\n",
    "                     index=list(np.arange(2008,2018)),name='Мертвонароджених жінок')                    \n",
    "                   \n",
    "\n"
   ]
  },
  {
   "cell_type": "code",
   "execution_count": 4,
   "metadata": {},
   "outputs": [],
   "source": [
    "#https://ukrstat.org/uk/operativ/operativ2018/ds/mr/mr_u/mr1218_u.html\n",
    "#Міграційний приріст, скорочення (–)\n",
    "#[2011,2012,2013,2014,2015,2016,2017]\n",
    "migraciya=pd.Series([17096,61844,31913,22592,14233,10620,11997],\\\n",
    "                    index=list(np.arange(2011,2018)),name='Міграційний приріст, скорочення (–)')\n"
   ]
  },
  {
   "cell_type": "code",
   "execution_count": 5,
   "metadata": {},
   "outputs": [],
   "source": [
    "range61=np.arange(61,81)\n",
    "range61_full=pop.loc[pop['вік'].isin(range61)].groupby('рік').sum()\n",
    "naselennya_vid_61=range61_full['Обидві статі']/1000000\n",
    "naselennya_vid_61.name='Населення від 61 року в Україні,млн.осіб'"
   ]
  },
  {
   "cell_type": "code",
   "execution_count": 6,
   "metadata": {},
   "outputs": [],
   "source": [
    "gdp=pd.read_excel('D:/Users/o.lukasevych/Documents/Python_Scripts/Ukr_budget/excel/gdp.xlsx')"
   ]
  },
  {
   "cell_type": "code",
   "execution_count": 7,
   "metadata": {},
   "outputs": [],
   "source": [
    "gdp_world=gdp.iloc[1]['2011':'2017']/1000000000\n",
    "gdp_world.index=gdp_world.index.astype('int')\n",
    "gdp_world.name='ВВП світу,млрд.дол.США'\n",
    "\n",
    "gdp_ukr=gdp.iloc[0]['2011':'2017']\n",
    "gdp_ukr_mlrd=gdp_ukr/1000000000\n",
    "gdp_ukr_mlrd.name='ВВП України,млрд.дол.США'\n",
    "gdp_ukr_mlrd.index=gdp_ukr_mlrd.index.astype('int')"
   ]
  },
  {
   "cell_type": "code",
   "execution_count": 8,
   "metadata": {},
   "outputs": [],
   "source": [
    "gdp_world_change=gdp_world.pct_change()*100\n",
    "gdp_world_change.name='Темп росту ВВП світу в рік,%'\n",
    "gdp_world_change.index=gdp_world_change.index.astype('int')"
   ]
  },
  {
   "cell_type": "code",
   "execution_count": 9,
   "metadata": {},
   "outputs": [],
   "source": [
    "world_pop=pd.read_csv(\"/data/WPP2017_TotalPopulationBySex.csv\")"
   ]
  },
  {
   "cell_type": "code",
   "execution_count": 10,
   "metadata": {},
   "outputs": [],
   "source": [
    "subset1=world_pop.loc[(world_pop.Location=='World')&(world_pop.Variant=='Medium')]\n",
    "subset2=subset1[['Time','PopTotal']]\n",
    "world_pop_prognos=subset2.set_index('Time').iloc[:,0]"
   ]
  },
  {
   "cell_type": "code",
   "execution_count": 11,
   "metadata": {},
   "outputs": [],
   "source": [
    "world_pop_slice=world_pop_prognos.loc[2011:2018]/1000\n",
    "world_pop_slice.name='Населення світу,млн.осіб'"
   ]
  },
  {
   "cell_type": "code",
   "execution_count": 12,
   "metadata": {},
   "outputs": [],
   "source": [
    "world_pop_change=world_pop_slice.pct_change()*100\n",
    "world_pop_change.name='Темп росту населення світу в рік,%'"
   ]
  },
  {
   "cell_type": "code",
   "execution_count": 13,
   "metadata": {},
   "outputs": [],
   "source": [
    "nas_vse_mln=naselennya_vse/1000000\n",
    "nas_vse_mln.name='Населення України,млн.осіб'\n",
    "gdpukr_na_osobu=gdp_ukr_mlrd/nas_vse_mln\n",
    "gdpukr_na_osobu.name='ВВП України на одну особу,тис.дол.США'\n",
    "gdpworld_na_osobu=gdp_world/(world_pop_slice)\n",
    "gdpworld_na_osobu.name='ВВП світу на особу, тис.дол.США'"
   ]
  },
  {
   "cell_type": "code",
   "execution_count": 14,
   "metadata": {},
   "outputs": [],
   "source": [
    "chastka_61=naselennya_vid_61/nas_vse_mln*100\n",
    "chastka_61.name='частка населення від 61 року від населення в Україні,%'"
   ]
  },
  {
   "cell_type": "code",
   "execution_count": 15,
   "metadata": {},
   "outputs": [],
   "source": [
    "range_m18_60=np.arange(18,61)\n",
    "range_f50_60=np.arange(50,61)\n",
    "range_m18_60_full=pop.loc[pop['вік'].isin(range_m18_60)].groupby('рік').sum()\n",
    "range_f50_60_full=pop.loc[pop['вік'].isin(range_f50_60)].groupby('рік').sum()\n",
    "female_male=(range_m18_60_full[' чоловіки']+range_f50_60_full[' жінки'])/1000000\n",
    "female_male.name='Чоловіки(18-60) та жінки(50-60) в Україні,млн.осіб'"
   ]
  },
  {
   "cell_type": "code",
   "execution_count": 16,
   "metadata": {},
   "outputs": [],
   "source": [
    "chastka_fm=female_male/nas_vse_mln*100\n",
    "chastka_fm.name='частка чоловіків (18-60) та жінок (50-60) від населення України, %'"
   ]
  },
  {
   "cell_type": "code",
   "execution_count": 17,
   "metadata": {},
   "outputs": [],
   "source": [
    "range_ditei=np.arange(0,18)\n",
    "ditei=pop.loc[pop['вік'].isin(range_ditei)].groupby('рік').sum()\n",
    "ditei=ditei['Обидві статі']/1000000\n",
    "ditei.name='Дітей(0-17)в Україні, млн.осіб'\n"
   ]
  },
  {
   "cell_type": "code",
   "execution_count": 18,
   "metadata": {},
   "outputs": [],
   "source": [
    "chastka_ditei=ditei/nas_vse_mln*100\n",
    "chastka_ditei.name='частка дітей від населення України'"
   ]
  },
  {
   "cell_type": "code",
   "execution_count": 19,
   "metadata": {},
   "outputs": [],
   "source": [
    "range_fert=np.arange(18,50)\n",
    "fert=pop.loc[pop['вік'].isin(range_fert)].groupby('рік').sum()\n",
    "fert=fert[' жінки']/1000000\n",
    "fert.name='Жінок дітородного віку(18-49) в Україні,млн.осіб'\n"
   ]
  },
  {
   "cell_type": "code",
   "execution_count": 20,
   "metadata": {},
   "outputs": [],
   "source": [
    "chastka_fert=fert/nas_vse_mln*100\n",
    "chastka_fert.name='частка жінок дітородного віку від населення України,%'"
   ]
  },
  {
   "cell_type": "code",
   "execution_count": 21,
   "metadata": {
    "scrolled": false
   },
   "outputs": [],
   "source": [
    "ditei_na_zhinku=ditei/fert\n",
    "ditei_na_zhinku.name='Дітей на одну жінку дітородного віку в Україні,осіб'"
   ]
  },
  {
   "cell_type": "code",
   "execution_count": 22,
   "metadata": {},
   "outputs": [],
   "source": [
    "zhivonar_mln=zhivonar/1000000\n",
    "zhivonar_mln.name='Народилося в Україні за рік, млн.осіб'"
   ]
  },
  {
   "cell_type": "code",
   "execution_count": 23,
   "metadata": {},
   "outputs": [],
   "source": [
    "narodylos_na_1000_zhinok=zhivonar_mln/fert*1000\n",
    "narodylos_na_1000_zhinok.name='Народилося в Україні на 1000 жінок дітородного віку,осіб'"
   ]
  },
  {
   "cell_type": "code",
   "execution_count": 24,
   "metadata": {},
   "outputs": [],
   "source": [
    "chastka_nasukr=nas_vse_mln/world_pop_slice*100\n",
    "chastka_nasukr.name='частка населення України від населення світу,%'"
   ]
  },
  {
   "cell_type": "code",
   "execution_count": 25,
   "metadata": {},
   "outputs": [],
   "source": [
    "chastka_gdp_na_osobu=gdpukr_na_osobu/gdpworld_na_osobu*100\n",
    "chastka_gdp_na_osobu.name='частка ВВП України від ВВП світу на одну особу,%'"
   ]
  },
  {
   "cell_type": "code",
   "execution_count": 26,
   "metadata": {},
   "outputs": [],
   "source": [
    "miske_nas_mln=miske_nas/1000000\n",
    "miske_nas_mln.name='у т.ч. міського населення України,млн.осіб'"
   ]
  },
  {
   "cell_type": "code",
   "execution_count": 27,
   "metadata": {},
   "outputs": [],
   "source": [
    "chastka_miske_nas=miske_nas/naselennya_vse*100\n",
    "chastka_miske_nas.name='частка міського населення від населення України,%'"
   ]
  },
  {
   "cell_type": "code",
   "execution_count": 28,
   "metadata": {},
   "outputs": [],
   "source": [
    "saldo_mifrant=migraciya/1000000\n",
    "saldo_mifrant.name='Сальдо міжнародних мігрантів в Україні,млн.осіб'\n",
    "chastka_migr=saldo_mifrant/nas_vse_mln*100\n",
    "chastka_migr.name='частка сальдо міжнародних мігрантів від населення України,%'"
   ]
  },
  {
   "cell_type": "code",
   "execution_count": 29,
   "metadata": {},
   "outputs": [],
   "source": [
    "pomerlyh_mln=pomerlyh/1000000\n",
    "pomerlyh_mln.name='Померлих за рік в Україні,млн.осіб'"
   ]
  },
  {
   "cell_type": "code",
   "execution_count": 30,
   "metadata": {},
   "outputs": [],
   "source": [
    "pomer_na_1000_nas.name='Померлих на 1000 жителів України,осіб'"
   ]
  },
  {
   "cell_type": "code",
   "execution_count": 31,
   "metadata": {},
   "outputs": [],
   "source": [
    "historical=pd.concat([world_pop_slice,world_pop_change,gdp_world,gdpworld_na_osobu,gdp_world_change,\\\n",
    "          nas_vse_mln,chastka_nasukr,gdp_ukr_mlrd,gdpukr_na_osobu,chastka_gdp_na_osobu,\\\n",
    "          miske_nas_mln,chastka_miske_nas,saldo_mifrant,chastka_migr,\\\n",
    "          fert,chastka_fert,ditei,chastka_ditei,ditei_na_zhinku,zhivonar_mln,\\\n",
    "          narodylos_na_1000_zhinok,female_male,chastka_fm,naselennya_vid_61,\\\n",
    "          chastka_61,pomerlyh_mln,pomer_na_1000_nas],axis=1).T"
   ]
  },
  {
   "cell_type": "code",
   "execution_count": 32,
   "metadata": {},
   "outputs": [
    {
     "data": {
      "text/html": [
       "<div>\n",
       "<style scoped>\n",
       "    .dataframe tbody tr th:only-of-type {\n",
       "        vertical-align: middle;\n",
       "    }\n",
       "\n",
       "    .dataframe tbody tr th {\n",
       "        vertical-align: top;\n",
       "    }\n",
       "\n",
       "    .dataframe thead th {\n",
       "        text-align: right;\n",
       "    }\n",
       "</style>\n",
       "<table border=\"1\" class=\"dataframe\">\n",
       "  <thead>\n",
       "    <tr style=\"text-align: right;\">\n",
       "      <th></th>\n",
       "      <th>2012</th>\n",
       "      <th>2013</th>\n",
       "      <th>2014</th>\n",
       "      <th>2015</th>\n",
       "      <th>2016</th>\n",
       "      <th>2017</th>\n",
       "    </tr>\n",
       "  </thead>\n",
       "  <tbody>\n",
       "    <tr>\n",
       "      <th>Населення світу,млн.осіб</th>\n",
       "      <td>7128.18</td>\n",
       "      <td>7213.43</td>\n",
       "      <td>7298.45</td>\n",
       "      <td>7383.01</td>\n",
       "      <td>7466.96</td>\n",
       "      <td>7550.26</td>\n",
       "    </tr>\n",
       "    <tr>\n",
       "      <th>Темп росту населення світу в рік,%</th>\n",
       "      <td>1.21</td>\n",
       "      <td>1.20</td>\n",
       "      <td>1.18</td>\n",
       "      <td>1.16</td>\n",
       "      <td>1.14</td>\n",
       "      <td>1.12</td>\n",
       "    </tr>\n",
       "    <tr>\n",
       "      <th>ВВП світу,млрд.дол.США</th>\n",
       "      <td>75061.41</td>\n",
       "      <td>77218.62</td>\n",
       "      <td>79319.86</td>\n",
       "      <td>75037.19</td>\n",
       "      <td>76146.11</td>\n",
       "      <td>80934.77</td>\n",
       "    </tr>\n",
       "    <tr>\n",
       "      <th>ВВП світу на особу, тис.дол.США</th>\n",
       "      <td>10.53</td>\n",
       "      <td>10.70</td>\n",
       "      <td>10.87</td>\n",
       "      <td>10.16</td>\n",
       "      <td>10.20</td>\n",
       "      <td>10.72</td>\n",
       "    </tr>\n",
       "    <tr>\n",
       "      <th>Темп росту ВВП світу в рік,%</th>\n",
       "      <td>2.31</td>\n",
       "      <td>2.87</td>\n",
       "      <td>2.72</td>\n",
       "      <td>-5.40</td>\n",
       "      <td>1.48</td>\n",
       "      <td>6.29</td>\n",
       "    </tr>\n",
       "    <tr>\n",
       "      <th>Населення України,млн.осіб</th>\n",
       "      <td>45.63</td>\n",
       "      <td>45.55</td>\n",
       "      <td>45.43</td>\n",
       "      <td>42.93</td>\n",
       "      <td>42.76</td>\n",
       "      <td>42.58</td>\n",
       "    </tr>\n",
       "    <tr>\n",
       "      <th>частка населення України від населення світу,%</th>\n",
       "      <td>0.64</td>\n",
       "      <td>0.63</td>\n",
       "      <td>0.62</td>\n",
       "      <td>0.58</td>\n",
       "      <td>0.57</td>\n",
       "      <td>0.56</td>\n",
       "    </tr>\n",
       "    <tr>\n",
       "      <th>ВВП України,млрд.дол.США</th>\n",
       "      <td>175.78</td>\n",
       "      <td>183.31</td>\n",
       "      <td>133.50</td>\n",
       "      <td>91.03</td>\n",
       "      <td>93.36</td>\n",
       "      <td>112.15</td>\n",
       "    </tr>\n",
       "    <tr>\n",
       "      <th>ВВП України на одну особу,тис.дол.США</th>\n",
       "      <td>3.85</td>\n",
       "      <td>4.02</td>\n",
       "      <td>2.94</td>\n",
       "      <td>2.12</td>\n",
       "      <td>2.18</td>\n",
       "      <td>2.63</td>\n",
       "    </tr>\n",
       "    <tr>\n",
       "      <th>частка ВВП України від ВВП світу на одну особу,%</th>\n",
       "      <td>36.58</td>\n",
       "      <td>37.59</td>\n",
       "      <td>27.04</td>\n",
       "      <td>20.86</td>\n",
       "      <td>21.41</td>\n",
       "      <td>24.57</td>\n",
       "    </tr>\n",
       "    <tr>\n",
       "      <th>у т.ч. міського населення України,млн.осіб</th>\n",
       "      <td>31.38</td>\n",
       "      <td>31.38</td>\n",
       "      <td>31.34</td>\n",
       "      <td>29.67</td>\n",
       "      <td>29.58</td>\n",
       "      <td>29.48</td>\n",
       "    </tr>\n",
       "    <tr>\n",
       "      <th>частка міського населення від населення України,%</th>\n",
       "      <td>68.77</td>\n",
       "      <td>68.88</td>\n",
       "      <td>68.98</td>\n",
       "      <td>69.12</td>\n",
       "      <td>69.19</td>\n",
       "      <td>69.23</td>\n",
       "    </tr>\n",
       "    <tr>\n",
       "      <th>Сальдо міжнародних мігрантів в Україні,млн.осіб</th>\n",
       "      <td>0.06</td>\n",
       "      <td>0.03</td>\n",
       "      <td>0.02</td>\n",
       "      <td>0.01</td>\n",
       "      <td>0.01</td>\n",
       "      <td>0.01</td>\n",
       "    </tr>\n",
       "    <tr>\n",
       "      <th>частка сальдо міжнародних мігрантів від населення України,%</th>\n",
       "      <td>0.14</td>\n",
       "      <td>0.07</td>\n",
       "      <td>0.05</td>\n",
       "      <td>0.03</td>\n",
       "      <td>0.02</td>\n",
       "      <td>0.03</td>\n",
       "    </tr>\n",
       "    <tr>\n",
       "      <th>Жінок дітородного віку(18-49) в Україні,млн.осіб</th>\n",
       "      <td>10.74</td>\n",
       "      <td>10.61</td>\n",
       "      <td>10.47</td>\n",
       "      <td>9.83</td>\n",
       "      <td>9.71</td>\n",
       "      <td>9.60</td>\n",
       "    </tr>\n",
       "    <tr>\n",
       "      <th>частка жінок дітородного віку від населення України,%</th>\n",
       "      <td>23.53</td>\n",
       "      <td>23.28</td>\n",
       "      <td>23.05</td>\n",
       "      <td>22.89</td>\n",
       "      <td>22.72</td>\n",
       "      <td>22.53</td>\n",
       "    </tr>\n",
       "    <tr>\n",
       "      <th>Дітей(0-17)в Україні, млн.осіб</th>\n",
       "      <td>7.97</td>\n",
       "      <td>7.99</td>\n",
       "      <td>8.01</td>\n",
       "      <td>7.61</td>\n",
       "      <td>7.61</td>\n",
       "      <td>7.62</td>\n",
       "    </tr>\n",
       "    <tr>\n",
       "      <th>частка дітей від населення України</th>\n",
       "      <td>17.47</td>\n",
       "      <td>17.54</td>\n",
       "      <td>17.63</td>\n",
       "      <td>17.74</td>\n",
       "      <td>17.81</td>\n",
       "      <td>17.88</td>\n",
       "    </tr>\n",
       "    <tr>\n",
       "      <th>Дітей на одну жінку дітородного віку в Україні,осіб</th>\n",
       "      <td>0.74</td>\n",
       "      <td>0.75</td>\n",
       "      <td>0.76</td>\n",
       "      <td>0.77</td>\n",
       "      <td>0.78</td>\n",
       "      <td>0.79</td>\n",
       "    </tr>\n",
       "    <tr>\n",
       "      <th>Народилося в Україні за рік, млн.осіб</th>\n",
       "      <td>0.52</td>\n",
       "      <td>0.50</td>\n",
       "      <td>0.47</td>\n",
       "      <td>0.41</td>\n",
       "      <td>0.40</td>\n",
       "      <td>0.36</td>\n",
       "    </tr>\n",
       "    <tr>\n",
       "      <th>Народилося в Україні на 1000 жінок дітородного віку,осіб</th>\n",
       "      <td>48.50</td>\n",
       "      <td>47.49</td>\n",
       "      <td>44.49</td>\n",
       "      <td>41.91</td>\n",
       "      <td>40.87</td>\n",
       "      <td>37.93</td>\n",
       "    </tr>\n",
       "    <tr>\n",
       "      <th>Чоловіки(18-60) та жінки(50-60) в Україні,млн.осіб</th>\n",
       "      <td>17.72</td>\n",
       "      <td>17.66</td>\n",
       "      <td>17.57</td>\n",
       "      <td>16.56</td>\n",
       "      <td>16.39</td>\n",
       "      <td>16.24</td>\n",
       "    </tr>\n",
       "    <tr>\n",
       "      <th>частка чоловіків (18-60) та жінок (50-60) від населення України, %</th>\n",
       "      <td>38.82</td>\n",
       "      <td>38.77</td>\n",
       "      <td>38.67</td>\n",
       "      <td>38.57</td>\n",
       "      <td>38.34</td>\n",
       "      <td>38.14</td>\n",
       "    </tr>\n",
       "    <tr>\n",
       "      <th>Населення від 61 року в Україні,млн.осіб</th>\n",
       "      <td>9.03</td>\n",
       "      <td>9.12</td>\n",
       "      <td>9.20</td>\n",
       "      <td>8.76</td>\n",
       "      <td>8.87</td>\n",
       "      <td>8.96</td>\n",
       "    </tr>\n",
       "    <tr>\n",
       "      <th>частка населення від 61 року від населення в Україні,%</th>\n",
       "      <td>19.79</td>\n",
       "      <td>20.01</td>\n",
       "      <td>20.25</td>\n",
       "      <td>20.41</td>\n",
       "      <td>20.74</td>\n",
       "      <td>21.05</td>\n",
       "    </tr>\n",
       "    <tr>\n",
       "      <th>Померлих за рік в Україні,млн.осіб</th>\n",
       "      <td>0.66</td>\n",
       "      <td>0.66</td>\n",
       "      <td>0.63</td>\n",
       "      <td>0.59</td>\n",
       "      <td>0.58</td>\n",
       "      <td>0.57</td>\n",
       "    </tr>\n",
       "    <tr>\n",
       "      <th>Померлих на 1000 жителів України,осіб</th>\n",
       "      <td>14.50</td>\n",
       "      <td>14.60</td>\n",
       "      <td>14.70</td>\n",
       "      <td>14.90</td>\n",
       "      <td>14.70</td>\n",
       "      <td>14.50</td>\n",
       "    </tr>\n",
       "  </tbody>\n",
       "</table>\n",
       "</div>"
      ],
      "text/plain": [
       "                                                       2012     2013     2014  \\\n",
       "Населення світу,млн.осіб                            7128.18  7213.43  7298.45   \n",
       "Темп росту населення світу в рік,%                     1.21     1.20     1.18   \n",
       "ВВП світу,млрд.дол.США                             75061.41 77218.62 79319.86   \n",
       "ВВП світу на особу, тис.дол.США                       10.53    10.70    10.87   \n",
       "Темп росту ВВП світу в рік,%                           2.31     2.87     2.72   \n",
       "Населення України,млн.осіб                            45.63    45.55    45.43   \n",
       "частка населення України від населення світу,%         0.64     0.63     0.62   \n",
       "ВВП України,млрд.дол.США                             175.78   183.31   133.50   \n",
       "ВВП України на одну особу,тис.дол.США                  3.85     4.02     2.94   \n",
       "частка ВВП України від ВВП світу на одну особу,%      36.58    37.59    27.04   \n",
       "у т.ч. міського населення України,млн.осіб            31.38    31.38    31.34   \n",
       "частка міського населення від населення України,%     68.77    68.88    68.98   \n",
       "Сальдо міжнародних мігрантів в Україні,млн.осіб        0.06     0.03     0.02   \n",
       "частка сальдо міжнародних мігрантів від населен...     0.14     0.07     0.05   \n",
       "Жінок дітородного віку(18-49) в Україні,млн.осіб      10.74    10.61    10.47   \n",
       "частка жінок дітородного віку від населення Укр...    23.53    23.28    23.05   \n",
       "Дітей(0-17)в Україні, млн.осіб                         7.97     7.99     8.01   \n",
       "частка дітей від населення України                    17.47    17.54    17.63   \n",
       "Дітей на одну жінку дітородного віку в Україні,...     0.74     0.75     0.76   \n",
       "Народилося в Україні за рік, млн.осіб                  0.52     0.50     0.47   \n",
       "Народилося в Україні на 1000 жінок дітородного ...    48.50    47.49    44.49   \n",
       "Чоловіки(18-60) та жінки(50-60) в Україні,млн.осіб    17.72    17.66    17.57   \n",
       "частка чоловіків (18-60) та жінок (50-60) від н...    38.82    38.77    38.67   \n",
       "Населення від 61 року в Україні,млн.осіб               9.03     9.12     9.20   \n",
       "частка населення від 61 року від населення в Ук...    19.79    20.01    20.25   \n",
       "Померлих за рік в Україні,млн.осіб                     0.66     0.66     0.63   \n",
       "Померлих на 1000 жителів України,осіб                 14.50    14.60    14.70   \n",
       "\n",
       "                                                       2015     2016     2017  \n",
       "Населення світу,млн.осіб                            7383.01  7466.96  7550.26  \n",
       "Темп росту населення світу в рік,%                     1.16     1.14     1.12  \n",
       "ВВП світу,млрд.дол.США                             75037.19 76146.11 80934.77  \n",
       "ВВП світу на особу, тис.дол.США                       10.16    10.20    10.72  \n",
       "Темп росту ВВП світу в рік,%                          -5.40     1.48     6.29  \n",
       "Населення України,млн.осіб                            42.93    42.76    42.58  \n",
       "частка населення України від населення світу,%         0.58     0.57     0.56  \n",
       "ВВП України,млрд.дол.США                              91.03    93.36   112.15  \n",
       "ВВП України на одну особу,тис.дол.США                  2.12     2.18     2.63  \n",
       "частка ВВП України від ВВП світу на одну особу,%      20.86    21.41    24.57  \n",
       "у т.ч. міського населення України,млн.осіб            29.67    29.58    29.48  \n",
       "частка міського населення від населення України,%     69.12    69.19    69.23  \n",
       "Сальдо міжнародних мігрантів в Україні,млн.осіб        0.01     0.01     0.01  \n",
       "частка сальдо міжнародних мігрантів від населен...     0.03     0.02     0.03  \n",
       "Жінок дітородного віку(18-49) в Україні,млн.осіб       9.83     9.71     9.60  \n",
       "частка жінок дітородного віку від населення Укр...    22.89    22.72    22.53  \n",
       "Дітей(0-17)в Україні, млн.осіб                         7.61     7.61     7.62  \n",
       "частка дітей від населення України                    17.74    17.81    17.88  \n",
       "Дітей на одну жінку дітородного віку в Україні,...     0.77     0.78     0.79  \n",
       "Народилося в Україні за рік, млн.осіб                  0.41     0.40     0.36  \n",
       "Народилося в Україні на 1000 жінок дітородного ...    41.91    40.87    37.93  \n",
       "Чоловіки(18-60) та жінки(50-60) в Україні,млн.осіб    16.56    16.39    16.24  \n",
       "частка чоловіків (18-60) та жінок (50-60) від н...    38.57    38.34    38.14  \n",
       "Населення від 61 року в Україні,млн.осіб               8.76     8.87     8.96  \n",
       "частка населення від 61 року від населення в Ук...    20.41    20.74    21.05  \n",
       "Померлих за рік в Україні,млн.осіб                     0.59     0.58     0.57  \n",
       "Померлих на 1000 жителів України,осіб                 14.90    14.70    14.50  "
      ]
     },
     "execution_count": 32,
     "metadata": {},
     "output_type": "execute_result"
    }
   ],
   "source": [
    "historical.loc[:,2012:2017]#.to_excel('historical2012_2017_slide5.xlsx')"
   ]
  }
 ],
 "metadata": {
  "kernelspec": {
   "display_name": "Python 3",
   "language": "python",
   "name": "python3"
  },
  "language_info": {
   "codemirror_mode": {
    "name": "ipython",
    "version": 3
   },
   "file_extension": ".py",
   "mimetype": "text/x-python",
   "name": "python",
   "nbconvert_exporter": "python",
   "pygments_lexer": "ipython3",
   "version": "3.7.0"
  },
  "varInspector": {
   "cols": {
    "lenName": 16,
    "lenType": 16,
    "lenVar": 40
   },
   "kernels_config": {
    "python": {
     "delete_cmd_postfix": "",
     "delete_cmd_prefix": "del ",
     "library": "var_list.py",
     "varRefreshCmd": "print(var_dic_list())"
    },
    "r": {
     "delete_cmd_postfix": ") ",
     "delete_cmd_prefix": "rm(",
     "library": "var_list.r",
     "varRefreshCmd": "cat(var_dic_list()) "
    }
   },
   "types_to_exclude": [
    "module",
    "function",
    "builtin_function_or_method",
    "instance",
    "_Feature"
   ],
   "window_display": false
  }
 },
 "nbformat": 4,
 "nbformat_minor": 2
}
