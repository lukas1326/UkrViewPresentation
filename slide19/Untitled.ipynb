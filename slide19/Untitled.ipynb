{
 "cells": [
  {
   "cell_type": "code",
   "execution_count": 1,
   "metadata": {},
   "outputs": [],
   "source": [
    "import pandas as pd"
   ]
  },
  {
   "cell_type": "code",
   "execution_count": null,
   "metadata": {},
   "outputs": [],
   "source": [
    "pokaznyk=pd.read_excel('Book1.xlsx')\n"
   ]
  },
  {
   "cell_type": "code",
   "execution_count": 23,
   "metadata": {},
   "outputs": [
    {
     "data": {
      "text/plain": [
       "2010     7.9356\n",
       "2011     7.9676\n",
       "2012     7.9910\n",
       "2013     7.9930\n",
       "2014    11.8867\n",
       "2015    21.8447\n",
       "2016    25.5513\n",
       "2017    26.5966\n",
       "Name: Курс грн/ дол. США, dtype: float64"
      ]
     },
     "execution_count": 23,
     "metadata": {},
     "output_type": "execute_result"
    }
   ],
   "source": [
    "kurs=pd.Series([7.9356,7.9676,7.991,7.993,11.8867,21.8447,25.5513,26.5966])\n",
    "kurs.index=[2010,2011,2012,2013,2014,2015,2016,2017]\n",
    "kurs.name='Курс грн/ дол. США'\n",
    "kurs#https://bank.gov.ua/files/Exchange_r.xls.Офіційний курс гривні щодо іноземних валют (середній за період)"
   ]
  },
  {
   "cell_type": "code",
   "execution_count": 26,
   "metadata": {},
   "outputs": [
    {
     "data": {
      "text/plain": [
       "2010    1079346\n",
       "2011    1299991\n",
       "2012    1404669\n",
       "2013    1465198\n",
       "2014    1586915\n",
       "2015    1988544\n",
       "2016    2385367\n",
       "2017    2983882\n",
       "Name: Валовий внутрішній продукт, dtype: int64"
      ]
     },
     "execution_count": 26,
     "metadata": {},
     "output_type": "execute_result"
    }
   ],
   "source": [
    "pokaznyk['Показник'][1]\n",
    "vvp=pd.Series([1079346,1299991,1404669,1465198,1586915,1988544,2385367,2983882])\n",
    "vvp.index=[2010,2011,2012,2013,2014,2015,2016,2017]\n",
    "vvp.name='Валовий внутрішній продукт'#'млн.грн'\n",
    "vvp#http://www.ukrstat.gov.ua/operativ/operativ2005/vvp/vvp_ric/vvp_u.htm"
   ]
  },
  {
   "cell_type": "code",
   "execution_count": 28,
   "metadata": {},
   "outputs": [
    {
     "data": {
      "text/plain": [
       "'Всього надходжень '"
      ]
     },
     "execution_count": 28,
     "metadata": {},
     "output_type": "execute_result"
    }
   ],
   "source": [
    "pokaznyk['Показник'][2]"
   ]
  },
  {
   "cell_type": "code",
   "execution_count": 31,
   "metadata": {},
   "outputs": [
    {
     "data": {
      "text/plain": [
       "'Надходження Державного бюджету України '"
      ]
     },
     "execution_count": 31,
     "metadata": {},
     "output_type": "execute_result"
    }
   ],
   "source": [
    "pokaznyk['Показник'][3]"
   ]
  },
  {
   "cell_type": "code",
   "execution_count": 32,
   "metadata": {},
   "outputs": [
    {
     "data": {
      "text/plain": [
       "'Запозичення для фінансування дефіциту Державного бюджету України'"
      ]
     },
     "execution_count": 32,
     "metadata": {},
     "output_type": "execute_result"
    }
   ],
   "source": [
    "pokaznyk['Показник'][4]"
   ]
  },
  {
   "cell_type": "code",
   "execution_count": 33,
   "metadata": {},
   "outputs": [
    {
     "data": {
      "text/plain": [
       "'Доходи Державного бюджету України '"
      ]
     },
     "execution_count": 33,
     "metadata": {},
     "output_type": "execute_result"
    }
   ],
   "source": [
    "pokaznyk['Показник'][5]\n",
    "#https://www.treasury.gov.ua/ua/file-storage/richniy-zvit-pro-vikonannya-derzhavnogo-byudzhetu-ukraini-za-2015-rik\n",
    "#Розділ І.Доходи\n",
    "doh=[534694812202.31,616283219565.97,]\n",
    "doh.index=[2015,2016,2017]\n",
    "#Continue this!!!!\n",
    "#https://www.minfin.gov.ua/uploads/redactor/files/Budget%20of%20Ukraine%202017%20(publish).pdf"
   ]
  }
 ],
 "metadata": {
  "kernelspec": {
   "display_name": "Python 3",
   "language": "python",
   "name": "python3"
  },
  "language_info": {
   "codemirror_mode": {
    "name": "ipython",
    "version": 3
   },
   "file_extension": ".py",
   "mimetype": "text/x-python",
   "name": "python",
   "nbconvert_exporter": "python",
   "pygments_lexer": "ipython3",
   "version": "3.7.0"
  },
  "varInspector": {
   "cols": {
    "lenName": 16,
    "lenType": 16,
    "lenVar": 40
   },
   "kernels_config": {
    "python": {
     "delete_cmd_postfix": "",
     "delete_cmd_prefix": "del ",
     "library": "var_list.py",
     "varRefreshCmd": "print(var_dic_list())"
    },
    "r": {
     "delete_cmd_postfix": ") ",
     "delete_cmd_prefix": "rm(",
     "library": "var_list.r",
     "varRefreshCmd": "cat(var_dic_list()) "
    }
   },
   "types_to_exclude": [
    "module",
    "function",
    "builtin_function_or_method",
    "instance",
    "_Feature"
   ],
   "window_display": false
  }
 },
 "nbformat": 4,
 "nbformat_minor": 2
}
