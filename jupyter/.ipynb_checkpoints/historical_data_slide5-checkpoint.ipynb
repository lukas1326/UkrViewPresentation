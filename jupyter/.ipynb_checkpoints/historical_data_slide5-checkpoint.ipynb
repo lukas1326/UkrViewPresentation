{
 "cells": [
  {
   "cell_type": "code",
   "execution_count": 2,
   "metadata": {},
   "outputs": [],
   "source": [
    "import pandas as pd\n",
    "import numpy as np\n",
    "pd.set_option('display.float_format', lambda x: '%.2f' % x)"
   ]
  },
  {
   "cell_type": "markdown",
   "metadata": {},
   "source": [
    "#### нужно получить распредение населения по возрастным группам\n",
    "#### 0-17, 18-60, 61 и старше в разрезе мужчин и женщин. Необходимо прогнозное\n",
    "#### количество женщин детородного возраста, чтобы по регулируемому показателю \n",
    "#### фертильности, получить прогноз всего населения Украины.\n",
    "#### Далее, зная фертильность и количество детей, можно спрогнозировать расходы\n",
    "#### которые должно взять на себя государство, чтобы увеличилась рождаемость."
   ]
  },
  {
   "cell_type": "markdown",
   "metadata": {},
   "source": [
    "#### try to recover AI's demographic  model"
   ]
  },
  {
   "cell_type": "code",
   "execution_count": 3,
   "metadata": {},
   "outputs": [],
   "source": [
    "pop=pd.read_excel('data/pop_per_year.xlsx')#с 2012 по 2018 по годам жизни мужчины и женщины"
   ]
  },
  {
   "cell_type": "code",
   "execution_count": 4,
   "metadata": {},
   "outputs": [
    {
     "data": {
      "text/html": [
       "<div>\n",
       "<style scoped>\n",
       "    .dataframe tbody tr th:only-of-type {\n",
       "        vertical-align: middle;\n",
       "    }\n",
       "\n",
       "    .dataframe tbody tr th {\n",
       "        vertical-align: top;\n",
       "    }\n",
       "\n",
       "    .dataframe thead th {\n",
       "        text-align: right;\n",
       "    }\n",
       "</style>\n",
       "<table border=\"1\" class=\"dataframe\">\n",
       "  <thead>\n",
       "    <tr style=\"text-align: right;\">\n",
       "      <th></th>\n",
       "      <th>рік</th>\n",
       "      <th>вік</th>\n",
       "      <th>Обидві статі</th>\n",
       "      <th>жінки</th>\n",
       "      <th>чоловіки</th>\n",
       "    </tr>\n",
       "  </thead>\n",
       "  <tbody>\n",
       "    <tr>\n",
       "      <th>81</th>\n",
       "      <td>2013</td>\n",
       "      <td>0</td>\n",
       "      <td>517301</td>\n",
       "      <td>250481</td>\n",
       "      <td>266820</td>\n",
       "    </tr>\n",
       "    <tr>\n",
       "      <th>82</th>\n",
       "      <td>2013</td>\n",
       "      <td>1</td>\n",
       "      <td>498371</td>\n",
       "      <td>241404</td>\n",
       "      <td>256967</td>\n",
       "    </tr>\n",
       "  </tbody>\n",
       "</table>\n",
       "</div>"
      ],
      "text/plain": [
       "     рік  вік  Обидві статі   жінки   чоловіки\n",
       "81  2013    0        517301  250481     266820\n",
       "82  2013    1        498371  241404     256967"
      ]
     },
     "execution_count": 4,
     "metadata": {},
     "output_type": "execute_result"
    }
   ],
   "source": [
    "pop2013=pop[pop['рік']==2013]#исходный факт\n",
    "pop2013.head(2)"
   ]
  },
  {
   "cell_type": "code",
   "execution_count": 5,
   "metadata": {},
   "outputs": [
    {
     "data": {
      "text/html": [
       "<div>\n",
       "<style scoped>\n",
       "    .dataframe tbody tr th:only-of-type {\n",
       "        vertical-align: middle;\n",
       "    }\n",
       "\n",
       "    .dataframe tbody tr th {\n",
       "        vertical-align: top;\n",
       "    }\n",
       "\n",
       "    .dataframe thead th {\n",
       "        text-align: right;\n",
       "    }\n",
       "</style>\n",
       "<table border=\"1\" class=\"dataframe\">\n",
       "  <thead>\n",
       "    <tr style=\"text-align: right;\">\n",
       "      <th></th>\n",
       "      <th>рік</th>\n",
       "      <th>вік</th>\n",
       "      <th>Обидві статі</th>\n",
       "      <th>жінки</th>\n",
       "      <th>чоловіки</th>\n",
       "    </tr>\n",
       "  </thead>\n",
       "  <tbody>\n",
       "    <tr>\n",
       "      <th>405</th>\n",
       "      <td>2017</td>\n",
       "      <td>0</td>\n",
       "      <td>394626</td>\n",
       "      <td>190833</td>\n",
       "      <td>203793</td>\n",
       "    </tr>\n",
       "    <tr>\n",
       "      <th>406</th>\n",
       "      <td>2017</td>\n",
       "      <td>1</td>\n",
       "      <td>408645</td>\n",
       "      <td>197600</td>\n",
       "      <td>211045</td>\n",
       "    </tr>\n",
       "  </tbody>\n",
       "</table>\n",
       "</div>"
      ],
      "text/plain": [
       "      рік  вік  Обидві статі   жінки   чоловіки\n",
       "405  2017    0        394626  190833     203793\n",
       "406  2017    1        408645  197600     211045"
      ]
     },
     "execution_count": 5,
     "metadata": {},
     "output_type": "execute_result"
    }
   ],
   "source": [
    "pop2017=pop[pop['рік']==2017]#исходный факт\n",
    "pop2017.head(2)"
   ]
  },
  {
   "cell_type": "code",
   "execution_count": 6,
   "metadata": {},
   "outputs": [],
   "source": [
    "#коэффициенты відтворення та міграції по мужчинам и женщинам\n",
    "#выделены из файлы модели, нужно сделать отдельными сериями,чтобы не привязываться к файлам\n",
    "koef_vidtvorennya_nas_f=pd.read_excel('D:/Users/o.lukasevych/Documents/Python_Scripts/Ukr_budget/excel/Copy of Демографическая модель изменения населения Украины.xlsx',\\\n",
    "                                     sheet_name='Sheet1')['відтворення населення жінки']\n",
    "koef_vidtvorennya_nas_m=pd.read_excel('D:/Users/o.lukasevych/Documents/Python_Scripts/Ukr_budget/excel/Copy of Демографическая модель изменения населения Украины.xlsx',\\\n",
    "                                     sheet_name='Sheet1')['відтворення населення чоловіка']\n",
    "koef_mizhnar_saldo_f=pd.read_excel('D:/Users/o.lukasevych/Documents/Python_Scripts/Ukr_budget/excel/Copy of Демографическая модель изменения населения Украины.xlsx',\\\n",
    "                                     sheet_name='Sheet1')['міжнародне сально жінки']\n",
    "koef_mizhnar_saldo_m=pd.read_excel('D:/Users/o.lukasevych/Documents/Python_Scripts/Ukr_budget/excel/Copy of Демографическая модель изменения населения Украины.xlsx',\\\n",
    "                                     sheet_name='Sheet1')['міжнародне сальдо чоловіка']"
   ]
  },
  {
   "cell_type": "code",
   "execution_count": 7,
   "metadata": {},
   "outputs": [],
   "source": [
    "koef_zhyvonar=99.3835113134263 #коэффициент живорожденных от рожденных\n",
    "koef_mertvonar=0.616488686573717 #коэффициент мертворожденных от родженных\n",
    "koef_pomer=1.45894635287282 #коэффициент умерших от всего населения\n",
    "\n",
    "koef_usogo_nar_f=48.3748938322502 #коэффициент всего рожденных женщин\n",
    "koef_zhivonar_f=48.3876667210801 #коэффициент живорожденных женщин\n",
    "koef_mertvonar_f=46.3157894736842 #коэффициент мертворожденных женщин\n",
    "koef_pomer_f=50.9026011137936 #коэффициент умерших женщин\n",
    "\n",
    "  #коэффициенты по мужчинам\n",
    "koef_usogo_nar_m=51.6251061677498\n",
    "koef_zhivonar_m=51.6123332789199\n",
    "koef_mertvonar_m=53.6842105263158\n",
    "koef_pomer_m=49.0973988862064\n",
    "\n",
    "    #коэффициенты миграции\n",
    "koef_migrant_f=30.6820386779639\n",
    "koef_migrant_m=69.3179613220361\n",
    "\n",
    "# на входе функции серия женщин по годам жизни,серия мужчины по годам жизни, всего населения\n",
    "# кол-во детей на 1000 женщин,коеффициент миграции\n",
    "def model(f_years,m_years,popTotal,koef_fert,koef_migrant):\n",
    "    fertilnyh=f_years[18:50].sum()\n",
    "    narodzhennyh=fertilnyh*koef_fert/1000\n",
    "    zhivonarodzhennyh=narodzhennyh*koef_zhyvonar/100\n",
    "    mertvonarodzhennyh=narodzhennyh*koef_mertvonar/100\n",
    "    pomer=popTotal*koef_pomer/100\n",
    "    \n",
    "    all_data=pd.Series({'fertilnyh':fertilnyh,'narodzhennyh':narodzhennyh,\\\n",
    "    'zhivonarodzhennyh':zhivonarodzhennyh,\\\n",
    "    'mertvonarodzhennyh':mertvonarodzhennyh,\\\n",
    "    'pomer':pomer})\n",
    "    \n",
    "    #количества по женщинам за текущий год\n",
    "    usogo_nar_f=narodzhennyh*koef_usogo_nar_f/100 #всего рожденных женщин\n",
    "    zhivonar_f=koef_zhivonar_f/100*zhivonarodzhennyh #количество живорожденных женщин\n",
    "    mertvonar_f=koef_mertvonar_f/100*mertvonarodzhennyh #количество мертворожденных женщин\n",
    "    pomer_f=koef_pomer_f/100*pomer #количество умерших женщин\n",
    "    \n",
    "    data_f=pd.Series({'usogo_nar_f':usogo_nar_f,'zhivonar_f':zhivonar_f,\\\n",
    "                      'mertvonar_f':mertvonar_f,'pomer_f':pomer_f})\n",
    "    \n",
    "    #количества по мужчинам за текущий год\n",
    "    zhivonar_m=koef_zhivonar_m/100*zhivonarodzhennyh\n",
    "    usogo_nar_m=narodzhennyh*koef_usogo_nar_m/100\n",
    "    mertvonar_m=koef_mertvonar_m/100*mertvonarodzhennyh\n",
    "    pomer_m=koef_pomer_m/100*pomer\n",
    "    \n",
    "    data_m=pd.Series({'usogo_nar_m':usogo_nar_m,'zhivonar_m':zhivonar_m,\\\n",
    "                     'mertvonar_m':mertvonar_m,'pomer_m':pomer_m})\n",
    "    \n",
    "    #серии відтворення населення\n",
    "    vidtvorennya_nas_f=pd.Series(pomer_f*koef_vidtvorennya_nas_f/100*(-1))\n",
    "    vidtvorennya_nas_m=pd.Series(pomer_m*koef_vidtvorennya_nas_m/100*(-1))\n",
    "    \n",
    "    # серии мигрантов\n",
    "    migrant=popTotal*koef_migrant/100\n",
    "    migrant_f=migrant*koef_migrant_f/100\n",
    "    migrant_f_years=pd.Series(koef_mizhnar_saldo_f*migrant_f/100)\n",
    "    migrant_m=migrant*koef_migrant_m/100\n",
    "    migrant_m_years=pd.Series(koef_mizhnar_saldo_m*migrant_m/100)\n",
    "    \n",
    "    # серии женщин следующего года по годам жизни\n",
    "    rest1=f_years[:-1]\n",
    "    rest2=vidtvorennya_nas_f.drop(0).reset_index(drop=True)\n",
    "    rest3=migrant_f_years.drop(0).reset_index(drop=True)\n",
    "    rest1=rest1.astype('float64')\n",
    "    rest4=rest1+rest2+rest3\n",
    "    rest4=rest4[:-1]\n",
    "    rest_first=zhivonar_f+vidtvorennya_nas_f[0]+migrant_f_years[0]\n",
    "    rest_last=pd.Series(f_years.iloc[-1]+f_years.iloc[-2]+\\\n",
    "                vidtvorennya_nas_f.iloc[-1]+\\\n",
    "                migrant_f_years.iloc[-1])\n",
    "    rest=rest4.append(rest_last).reset_index(drop=True)\n",
    "    rest.index=rest.index+1\n",
    "    rest_f=pd.concat([rest, pd.Series(rest_first)])\n",
    "    female_next=rest_f.sort_index()\n",
    "    \n",
    "    rest_series=pd.Series({'rest':rest,'rest1':rest1,\\\n",
    "                           'rest2':rest2,'rest3':rest3,\\\n",
    "                           'rest4':rest4,\\\n",
    "                           'rest_first':rest_first,'rest_last':rest_last})\n",
    "    \n",
    "    # серии мужчин следующего года по годам жизни\n",
    "    mrest1=m_years[:-1]\n",
    "    mrest2=vidtvorennya_nas_m.drop(0).reset_index(drop=True)\n",
    "    mrest3=migrant_m_years.drop(0).reset_index(drop=True)\n",
    "    mrest1=mrest1.astype('float64')\n",
    "    mrest4=mrest1+mrest2+mrest3\n",
    "    mrest4=mrest4[:-1]\n",
    "    mrest_first=zhivonar_m+vidtvorennya_nas_m[0]+migrant_m_years[0]\n",
    "    mrest_last=pd.Series(m_years.iloc[-1]+m_years.iloc[-2]+\\\n",
    "                vidtvorennya_nas_m.iloc[-1]+\\\n",
    "                migrant_m_years.iloc[-1])\n",
    "    mrest=mrest4.append(mrest_last).reset_index(drop=True)\n",
    "    mrest.index=mrest.index+1\n",
    "    rest_m=pd.concat([mrest, pd.Series(mrest_first)])\n",
    "    male_next=rest_m.sort_index()\n",
    "    pop_next=female_next+male_next\n",
    "    pop_next_total=pop_next.sum()\n",
    "    \n",
    "     \n",
    "    \n",
    "    return female_next,male_next,pop_next_total,vidtvorennya_nas_f       \n",
    "   "
   ]
  },
  {
   "cell_type": "code",
   "execution_count": 8,
   "metadata": {},
   "outputs": [],
   "source": [
    "def prognos(year,f_years,m_years,kfert):\n",
    "    z=[]\n",
    "    ye=[]\n",
    "    pop_total=f_years.sum()+m_years.sum()\n",
    "    for i in range(len(kfert)):\n",
    "        fy=model(f_years,m_years,pop_total,kfert[i],0.136060581939936)[0]\n",
    "        my=model(f_years,m_years,pop_total,kfert[i],0.136060581939936)[1]\n",
    "        pt=model(f_years,m_years,pop_total,kfert[i],0.136060581939936)[2]\n",
    "        z.append(model(f_years,m_years,pop_total,kfert[i],0.136060581939936)[2])\n",
    "        f_years=fy\n",
    "        m_years=my\n",
    "        pop_total=pt\n",
    "        ye.append(year+1+i)\n",
    "        \n",
    "    return pd.DataFrame(z,ye)"
   ]
  },
  {
   "cell_type": "code",
   "execution_count": 9,
   "metadata": {},
   "outputs": [
    {
     "data": {
      "text/plain": [
       "0   20434948.95\n",
       "Name: 2117, dtype: float64"
      ]
     },
     "execution_count": 9,
     "metadata": {},
     "output_type": "execute_result"
    }
   ],
   "source": [
    "f=pop2017[' жінки'].reset_index(drop=True)\n",
    "m=pop2017[' чоловіки'].reset_index(drop=True)\n",
    "\n",
    "kfert_good=np.insert(np.repeat(95,40),[0],[46,60,65,70,75,80,85,90])\n",
    "kfert_bad=np.repeat(46,37)\n",
    "\n",
    "prognos(2017,f,m,np.repeat(38,100)).iloc[-1,:]"
   ]
  },
  {
   "cell_type": "code",
   "execution_count": 10,
   "metadata": {},
   "outputs": [],
   "source": [
    "#исторические данные\n",
    "#http://database.ukrcensus.gov.ua/MULT/Dialog/statfile_c_files/pasport.files/pasport/00_uk.htm#0301\n",
    "#http://database.ukrcensus.gov.ua/PXWEB2007/ukr/publ_new1/2018/zb_dy_2017.pdf\n",
    "\n",
    "pomerlyh=pd.Series([754460,706739,698235,664588,663139,662368,632296,594796,583631,574123],\\\n",
    "                   index=list(np.arange(2008,2018)),name='Померлих')\n",
    "pomer_na_1000_nas=pd.Series([16.3,15.3,15.2,14.5,14.5,14.6,14.7,14.9,14.7,14.5],\\\n",
    "                            index=list(np.arange(2008,2018)),name='Померлих на 1000 населення')\n",
    "zhivonar=pd.Series([510589,512525,497689,502595,520705,503657,465882,411781,397037,363987],\\\n",
    "                   index=list(np.arange(2008,2018)),name='Живонароджених')\n",
    "zhivonar_na_1000_nas=pd.Series([11.0,11.1,10.8,11.0,11.4,11.1,10.8,10.7,10.3,9.4],\\\n",
    "                               index=list(np.arange(2008,2018)),name='Живонароджених на 1000 населення')\n",
    "naselennya_vse=pd.Series([46372664,46143714,45962947,45778534,45633637,45553047,45426249,42929298,42760516,42584542,42386403],\\\n",
    "                         index=list(np.arange(2008,2019)),name='Населення України')\n",
    "miske_nas=pd.Series([31668757,31587203,31524795,31441649,31380874,31378639,31336623,29673113,29584952,29482313,29370995],\\\n",
    "                    index=list(np.arange(2008,2019)),name='Міське населення')\n",
    "silske_nas=pd.Series([14703907,14556511,14438152,14336885,14252763,14174408,14089626,13256185,13175564,13102229,13015408],\\\n",
    "                     index=list(np.arange(2008,2019)),name='Сільське населення')\n",
    "zhivonar_m=pd.Series([263588,264844,256835,259433,268748,259738,240043,212846,205194,187528],\\\n",
    "                    index=list(np.arange(2008,2018)),name='Живонароджених чоловіків')\n",
    "zhivonar_f=pd.Series([247001,247681,240854,243162,251957,243919,225839,198935,191843,176459],\\\n",
    "                    index=list(np.arange(2008,2018)),name='Живонароджених жінок')\n",
    "mertvonar_all=pd.Series([3416,3351,3300,3158,3230,3166,2820,2437,2244,2136],\\\n",
    "                       index=list(np.arange(2008,2018)),name='Мертвонароджених')\n",
    "mertvonar_m=pd.Series([1801,1821,1719,1649,1734,1683,1502,1322,1159,1090],\\\n",
    "                     index=list(np.arange(2008,2018)),name='Мертвонароджених чоловіків')\n",
    "\n",
    "mertvonar_f=pd.Series([1615,1530,1581,1509,1496,1483,1318,1115,1085,1046],\\\n",
    "                     index=list(np.arange(2008,2018)),name='Мертвонароджених жінок')                    \n",
    "                   \n",
    "\n"
   ]
  },
  {
   "cell_type": "code",
   "execution_count": 11,
   "metadata": {},
   "outputs": [],
   "source": [
    "#https://ukrstat.org/uk/operativ/operativ2018/ds/mr/mr_u/mr1218_u.html\n",
    "#Міграційний приріст, скорочення (–)\n",
    "#[2011,2012,2013,2014,2015,2016,2017]\n",
    "migraciya=pd.Series([17096,61844,31913,22592,14233,10620,11997],\\\n",
    "                    index=list(np.arange(2011,2018)),name='Міграційний приріст, скорочення (–)')\n"
   ]
  },
  {
   "cell_type": "code",
   "execution_count": 59,
   "metadata": {},
   "outputs": [],
   "source": [
    "range61=np.arange(61,81)\n",
    "range61_full=pop.loc[pop['вік'].isin(range61)].groupby('рік').sum()\n",
    "naselennya_vid_61=range61_full['Обидві статі']/1000000\n",
    "naselennya_vid_61.name='Населення від 61 року в Україні,млн.осіб'"
   ]
  },
  {
   "cell_type": "code",
   "execution_count": 60,
   "metadata": {},
   "outputs": [],
   "source": [
    "chastka_61=naselennya_vid_61/nas_vse_mln*100\n",
    "chastka_61.name='частка населення від 61 року від населення в Україні,%'"
   ]
  },
  {
   "cell_type": "code",
   "execution_count": 55,
   "metadata": {},
   "outputs": [],
   "source": [
    "range_m18_60=np.arange(18,61)\n",
    "range_f50_60=np.arange(50,61)\n",
    "range_m18_60_full=pop.loc[pop['вік'].isin(range_m18_60)].groupby('рік').sum()\n",
    "range_f50_60_full=pop.loc[pop['вік'].isin(range_f50_60)].groupby('рік').sum()\n",
    "female_male=(range_m18_60_full[' чоловіки']+range_f50_60_full[' жінки'])/1000000\n",
    "female_male.name='Чоловіки(18-60) та жінки(50-60) в Україні,млн.осіб'"
   ]
  },
  {
   "cell_type": "code",
   "execution_count": 57,
   "metadata": {},
   "outputs": [],
   "source": [
    "chastka_fm=female_male/nas_vse_mln*100\n",
    "chastka_fm.name='частка чоловіків (18-60) та жінок (50-60) від населення України, %'"
   ]
  },
  {
   "cell_type": "code",
   "execution_count": 43,
   "metadata": {},
   "outputs": [],
   "source": [
    "range_ditei=np.arange(0,18)\n",
    "ditei=pop.loc[pop['вік'].isin(range_ditei)].groupby('рік').sum()\n",
    "ditei=ditei['Обидві статі']/1000000\n",
    "ditei.name='Дітей(0-17)в Україні, млн.осіб'\n"
   ]
  },
  {
   "cell_type": "code",
   "execution_count": 45,
   "metadata": {},
   "outputs": [],
   "source": [
    "chastka_ditei=ditei/nas_vse_mln*100\n",
    "chastka_ditei.name='частка дітей від населення України'"
   ]
  },
  {
   "cell_type": "code",
   "execution_count": 39,
   "metadata": {},
   "outputs": [],
   "source": [
    "range_fert=np.arange(18,50)\n",
    "fert=pop.loc[pop['вік'].isin(range_fert)].groupby('рік').sum()\n",
    "fert=fert[' жінки']/1000000\n",
    "fert.name='Жінок дітородного віку(18-49) в Україні,млн.осіб'\n"
   ]
  },
  {
   "cell_type": "code",
   "execution_count": 41,
   "metadata": {},
   "outputs": [],
   "source": [
    "chastka_fert=fert/nas_vse_mln*100\n",
    "chastka_fert.name='частка жінок дітородного віку від населення України,%'"
   ]
  },
  {
   "cell_type": "code",
   "execution_count": 47,
   "metadata": {
    "scrolled": false
   },
   "outputs": [],
   "source": [
    "ditei_na_zhinku=ditei/fert\n",
    "ditei_na_zhinku.name='Дітей на одну жінку дітородного віку в Україні,осіб'"
   ]
  },
  {
   "cell_type": "code",
   "execution_count": 49,
   "metadata": {},
   "outputs": [],
   "source": [
    "zhivonar_mln=zhivonar/1000000\n",
    "zhivonar_mln.name='Народилося в Україні за рік, млн.осіб'"
   ]
  },
  {
   "cell_type": "code",
   "execution_count": 53,
   "metadata": {},
   "outputs": [],
   "source": [
    "narodylos_na_1000_zhinok=zhivonar_mln/fert*1000\n",
    "narodylos_na_1000_zhinok.name='Народилося в Україні на 1000 жінок дітородного віку,осіб'"
   ]
  },
  {
   "cell_type": "code",
   "execution_count": 22,
   "metadata": {},
   "outputs": [],
   "source": [
    "world_pop=pd.read_csv(\"D:/Users/o.lukasevych/Documents/Python_Scripts/Ukr_budget/Shiny_app/population/data/WPP2017_TotalPopulationBySex.csv\")"
   ]
  },
  {
   "cell_type": "code",
   "execution_count": 23,
   "metadata": {},
   "outputs": [],
   "source": [
    "subset1=world_pop.loc[(world_pop.Location=='World')&(world_pop.Variant=='Medium')]\n",
    "subset2=subset1[['Time','PopTotal']]\n",
    "world_pop_prognos=subset2.set_index('Time').iloc[:,0]"
   ]
  },
  {
   "cell_type": "code",
   "execution_count": 24,
   "metadata": {},
   "outputs": [],
   "source": [
    "world_pop_slice=world_pop_prognos.loc[2011:2018]/1000\n",
    "world_pop_slice.name='Населення світу,млн.осіб'"
   ]
  },
  {
   "cell_type": "code",
   "execution_count": 25,
   "metadata": {},
   "outputs": [],
   "source": [
    "world_pop_change=world_pop_slice.pct_change()*100\n",
    "world_pop_change.name='Темп росту населення світу в рік,%'"
   ]
  },
  {
   "cell_type": "code",
   "execution_count": 26,
   "metadata": {},
   "outputs": [],
   "source": [
    "gdp=pd.read_excel('D:/Users/o.lukasevych/Documents/Python_Scripts/Ukr_budget/excel/gdp.xlsx')"
   ]
  },
  {
   "cell_type": "code",
   "execution_count": 27,
   "metadata": {},
   "outputs": [],
   "source": [
    "gdp_world=gdp.iloc[1]['2011':'2017']/1000000000\n",
    "gdp_world.index=gdp_world.index.astype('int')\n",
    "gdp_world.name='ВВП світу,млрд.дол.США'\n",
    "\n",
    "gdp_ukr=gdp.iloc[0]['2011':'2017']\n",
    "gdp_ukr_mlrd=gdp_ukr/1000000000\n",
    "gdp_ukr_mlrd.name='ВВП України,млрд.дол.США'\n",
    "gdp_ukr_mlrd.index=gdp_ukr_mlrd.index.astype('int')"
   ]
  },
  {
   "cell_type": "code",
   "execution_count": 28,
   "metadata": {},
   "outputs": [],
   "source": [
    "gdp_world_change=gdp_world.pct_change()*100\n",
    "gdp_world_change.name='Темп росту ВВП світу в рік,%'\n",
    "gdp_world_change.index=gdp_world_change.index.astype('int')"
   ]
  },
  {
   "cell_type": "code",
   "execution_count": 29,
   "metadata": {},
   "outputs": [],
   "source": [
    "nas_vse_mln=naselennya_vse/1000000\n",
    "nas_vse_mln.name='Населення України,млн.осіб'\n",
    "gdpukr_na_osobu=gdp_ukr_mlrd/nas_vse_mln\n",
    "gdpukr_na_osobu.name='ВВП України на одну особу,тис.дол.США'\n",
    "gdpworld_na_osobu=gdp_world/(world_pop_slice)\n",
    "gdpworld_na_osobu.name='ВВП світу на особу, тис.дол.США'"
   ]
  },
  {
   "cell_type": "code",
   "execution_count": 30,
   "metadata": {},
   "outputs": [],
   "source": [
    "chastka_nasukr=nas_vse_mln/world_pop_slice*100\n",
    "chastka_nasukr.name='частка населення України від населення світу,%'"
   ]
  },
  {
   "cell_type": "code",
   "execution_count": 31,
   "metadata": {},
   "outputs": [],
   "source": [
    "chastka_gdp_na_osobu=gdpukr_na_osobu/gdpworld_na_osobu*100\n",
    "chastka_gdp_na_osobu.name='частка ВВП України від ВВП світу на одну особу,%'"
   ]
  },
  {
   "cell_type": "code",
   "execution_count": 32,
   "metadata": {},
   "outputs": [],
   "source": [
    "miske_nas_mln=miske_nas/1000000\n",
    "miske_nas_mln.name='у т.ч. міського населення України,млн.осіб'"
   ]
  },
  {
   "cell_type": "code",
   "execution_count": 33,
   "metadata": {},
   "outputs": [],
   "source": [
    "chastka_miske_nas=miske_nas/naselennya_vse*100\n",
    "chastka_miske_nas.name='частка міського населення від населення України,%'"
   ]
  },
  {
   "cell_type": "code",
   "execution_count": 34,
   "metadata": {},
   "outputs": [],
   "source": [
    "saldo_mifrant=migraciya/1000000\n",
    "saldo_mifrant.name='Сальдо міжнародних мігрантів в Україні,млн.осіб'\n",
    "chastka_migr=saldo_mifrant/nas_vse_mln*100\n",
    "chastka_migr.name='частка сальдо міжнародних мігрантів від населення України,%'"
   ]
  },
  {
   "cell_type": "code",
   "execution_count": 64,
   "metadata": {},
   "outputs": [],
   "source": [
    "pomerlyh_mln=pomerlyh/1000000\n",
    "pomerlyh_mln.name='Померлих за рік в Україні,млн.осіб'"
   ]
  },
  {
   "cell_type": "code",
   "execution_count": 66,
   "metadata": {},
   "outputs": [],
   "source": [
    "pomer_na_1000_nas.name='Померлих на 1000 жителів України,осіб'"
   ]
  },
  {
   "cell_type": "code",
   "execution_count": 68,
   "metadata": {},
   "outputs": [],
   "source": [
    "historical=pd.concat([world_pop_slice,world_pop_change,gdp_world,gdpworld_na_osobu,gdp_world_change,\\\n",
    "          nas_vse_mln,chastka_nasukr,gdp_ukr_mlrd,gdpukr_na_osobu,chastka_gdp_na_osobu,\\\n",
    "          miske_nas_mln,chastka_miske_nas,saldo_mifrant,chastka_migr,\\\n",
    "          fert,chastka_fert,ditei,chastka_ditei,ditei_na_zhinku,zhivonar_mln,\\\n",
    "          narodylos_na_1000_zhinok,female_male,chastka_fm,naselennya_vid_61,\\\n",
    "          chastka_61,pomerlyh_mln,pomer_na_1000_nas],axis=1).T"
   ]
  },
  {
   "cell_type": "code",
   "execution_count": 82,
   "metadata": {},
   "outputs": [],
   "source": [
    "historical.loc[:,2012:2017].to_excel('historical2012_2017_slide5.xlsx')"
   ]
  }
 ],
 "metadata": {
  "kernelspec": {
   "display_name": "Python 3",
   "language": "python",
   "name": "python3"
  },
  "language_info": {
   "codemirror_mode": {
    "name": "ipython",
    "version": 3
   },
   "file_extension": ".py",
   "mimetype": "text/x-python",
   "name": "python",
   "nbconvert_exporter": "python",
   "pygments_lexer": "ipython3",
   "version": "3.7.0"
  },
  "varInspector": {
   "cols": {
    "lenName": 16,
    "lenType": 16,
    "lenVar": 40
   },
   "kernels_config": {
    "python": {
     "delete_cmd_postfix": "",
     "delete_cmd_prefix": "del ",
     "library": "var_list.py",
     "varRefreshCmd": "print(var_dic_list())"
    },
    "r": {
     "delete_cmd_postfix": ") ",
     "delete_cmd_prefix": "rm(",
     "library": "var_list.r",
     "varRefreshCmd": "cat(var_dic_list()) "
    }
   },
   "types_to_exclude": [
    "module",
    "function",
    "builtin_function_or_method",
    "instance",
    "_Feature"
   ],
   "window_display": false
  }
 },
 "nbformat": 4,
 "nbformat_minor": 2
}
