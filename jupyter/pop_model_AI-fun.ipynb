{
 "cells": [
  {
   "cell_type": "code",
   "execution_count": 10,
   "metadata": {},
   "outputs": [],
   "source": [
    "import pandas as pd\n",
    "import numpy as np\n",
    "pd.set_option('display.float_format', lambda x: '%.2f' % x)"
   ]
  },
  {
   "cell_type": "markdown",
   "metadata": {},
   "source": [
    "#### нужно получить распредение населения по возрастным группам\n",
    "#### 0-17, 18-60, 61 и старше в разрезе мужчин и женщин. Необходимо прогнозное\n",
    "#### количество женщин детородного возраста, чтобы по регулируемому показателю \n",
    "#### фертильности, получить прогноз всего населения Украины.\n",
    "#### Далее, зная фертильность и количество детей, можно спрогнозировать расходы\n",
    "#### которые должно взять на себя государство, чтобы увеличилась рождаемость."
   ]
  },
  {
   "cell_type": "markdown",
   "metadata": {},
   "source": [
    "#### try to recover demographic model by AI"
   ]
  },
  {
   "cell_type": "code",
   "execution_count": 2,
   "metadata": {},
   "outputs": [],
   "source": [
    "pop=pd.read_excel('data/pop_per_year.xlsx')"
   ]
  },
  {
   "cell_type": "code",
   "execution_count": 3,
   "metadata": {},
   "outputs": [
    {
     "data": {
      "text/html": [
       "<div>\n",
       "<style scoped>\n",
       "    .dataframe tbody tr th:only-of-type {\n",
       "        vertical-align: middle;\n",
       "    }\n",
       "\n",
       "    .dataframe tbody tr th {\n",
       "        vertical-align: top;\n",
       "    }\n",
       "\n",
       "    .dataframe thead th {\n",
       "        text-align: right;\n",
       "    }\n",
       "</style>\n",
       "<table border=\"1\" class=\"dataframe\">\n",
       "  <thead>\n",
       "    <tr style=\"text-align: right;\">\n",
       "      <th></th>\n",
       "      <th>рік</th>\n",
       "      <th>вік</th>\n",
       "      <th>Обидві статі</th>\n",
       "      <th>жінки</th>\n",
       "      <th>чоловіки</th>\n",
       "    </tr>\n",
       "  </thead>\n",
       "  <tbody>\n",
       "    <tr>\n",
       "      <th>81</th>\n",
       "      <td>2013</td>\n",
       "      <td>0</td>\n",
       "      <td>517301</td>\n",
       "      <td>250481</td>\n",
       "      <td>266820</td>\n",
       "    </tr>\n",
       "    <tr>\n",
       "      <th>82</th>\n",
       "      <td>2013</td>\n",
       "      <td>1</td>\n",
       "      <td>498371</td>\n",
       "      <td>241404</td>\n",
       "      <td>256967</td>\n",
       "    </tr>\n",
       "  </tbody>\n",
       "</table>\n",
       "</div>"
      ],
      "text/plain": [
       "     рік  вік  Обидві статі   жінки   чоловіки\n",
       "81  2013    0        517301  250481     266820\n",
       "82  2013    1        498371  241404     256967"
      ]
     },
     "execution_count": 3,
     "metadata": {},
     "output_type": "execute_result"
    }
   ],
   "source": [
    "pop2013=pop[pop['рік']==2013]#исходный факт\n",
    "pop2013.head(2)"
   ]
  },
  {
   "cell_type": "code",
   "execution_count": 4,
   "metadata": {},
   "outputs": [
    {
     "data": {
      "text/html": [
       "<div>\n",
       "<style scoped>\n",
       "    .dataframe tbody tr th:only-of-type {\n",
       "        vertical-align: middle;\n",
       "    }\n",
       "\n",
       "    .dataframe tbody tr th {\n",
       "        vertical-align: top;\n",
       "    }\n",
       "\n",
       "    .dataframe thead th {\n",
       "        text-align: right;\n",
       "    }\n",
       "</style>\n",
       "<table border=\"1\" class=\"dataframe\">\n",
       "  <thead>\n",
       "    <tr style=\"text-align: right;\">\n",
       "      <th></th>\n",
       "      <th>рік</th>\n",
       "      <th>вік</th>\n",
       "      <th>Обидві статі</th>\n",
       "      <th>жінки</th>\n",
       "      <th>чоловіки</th>\n",
       "    </tr>\n",
       "  </thead>\n",
       "  <tbody>\n",
       "    <tr>\n",
       "      <th>405</th>\n",
       "      <td>2017</td>\n",
       "      <td>0</td>\n",
       "      <td>394626</td>\n",
       "      <td>190833</td>\n",
       "      <td>203793</td>\n",
       "    </tr>\n",
       "    <tr>\n",
       "      <th>406</th>\n",
       "      <td>2017</td>\n",
       "      <td>1</td>\n",
       "      <td>408645</td>\n",
       "      <td>197600</td>\n",
       "      <td>211045</td>\n",
       "    </tr>\n",
       "  </tbody>\n",
       "</table>\n",
       "</div>"
      ],
      "text/plain": [
       "      рік  вік  Обидві статі   жінки   чоловіки\n",
       "405  2017    0        394626  190833     203793\n",
       "406  2017    1        408645  197600     211045"
      ]
     },
     "execution_count": 4,
     "metadata": {},
     "output_type": "execute_result"
    }
   ],
   "source": [
    "pop2017=pop[pop['рік']==2017]#исходный факт\n",
    "pop2017.head(2)"
   ]
  },
  {
   "cell_type": "code",
   "execution_count": 11,
   "metadata": {},
   "outputs": [],
   "source": [
    "#коэффициенты відтворення та міграції по мужчинам и женщинам\n",
    "#выделены из файлы модели, нужно сделать отдельными сериями,чтобы не привязываться к файлам\n",
    "koef_vidtvorennya_nas_f=pd.read_excel('D:/Users/o.lukasevych/Documents/Python_Scripts/Ukr_budget/excel/Copy of Демографическая модель изменения населения Украины.xlsx',\\\n",
    "                                     sheet_name='Sheet1')['відтворення населення жінки']\n",
    "koef_vidtvorennya_nas_m=pd.read_excel('D:/Users/o.lukasevych/Documents/Python_Scripts/Ukr_budget/excel/Copy of Демографическая модель изменения населения Украины.xlsx',\\\n",
    "                                     sheet_name='Sheet1')['відтворення населення чоловіка']\n",
    "koef_mizhnar_saldo_f=pd.read_excel('D:/Users/o.lukasevych/Documents/Python_Scripts/Ukr_budget/excel/Copy of Демографическая модель изменения населения Украины.xlsx',\\\n",
    "                                     sheet_name='Sheet1')['міжнародне сально жінки']\n",
    "koef_mizhnar_saldo_m=pd.read_excel('D:/Users/o.lukasevych/Documents/Python_Scripts/Ukr_budget/excel/Copy of Демографическая модель изменения населения Украины.xlsx',\\\n",
    "                                     sheet_name='Sheet1')['міжнародне сальдо чоловіка']"
   ]
  },
  {
   "cell_type": "code",
   "execution_count": 6,
   "metadata": {},
   "outputs": [],
   "source": [
    "koef_zhyvonar=99.3835113134263 #коэффициент живорожденных от рожденных\n",
    "koef_mertvonar=0.616488686573717 #коэффициент мертворожденных от родженных\n",
    "koef_pomer=1.45894635287282 #коэффициент умерших от всего населения\n",
    "\n",
    "koef_usogo_nar_f=48.3748938322502 #коэффициент всего рожденных женщин\n",
    "koef_zhivonar_f=48.3876667210801 #коэффициент живорожденных женщин\n",
    "koef_mertvonar_f=46.3157894736842 #коэффициент мертворожденных женщин\n",
    "koef_pomer_f=50.9026011137936 #коэффициент умерших женщин\n",
    "\n",
    "  #коэффициенты по мужчинам\n",
    "koef_usogo_nar_m=51.6251061677498\n",
    "koef_zhivonar_m=51.6123332789199\n",
    "koef_mertvonar_m=53.6842105263158\n",
    "koef_pomer_m=49.0973988862064\n",
    "\n",
    "    #коэффициенты миграции\n",
    "koef_migrant_f=30.6820386779639\n",
    "koef_migrant_m=69.3179613220361\n",
    "\n",
    "# на входе функции серия женщин по годам жизни,серия мужчины по годам жизни, всего населения\n",
    "# кол-во детей на 1000 женщин,коеффициент миграции\n",
    "def model(f_years,m_years,popTotal,koef_fert,koef_migrant):\n",
    "    fertilnyh=f_years[18:50].sum()\n",
    "    narodzhennyh=fertilnyh*koef_fert/1000\n",
    "    zhivonarodzhennyh=narodzhennyh*koef_zhyvonar/100\n",
    "    mertvonarodzhennyh=narodzhennyh*koef_mertvonar/100\n",
    "    pomer=popTotal*koef_pomer/100\n",
    "    \n",
    "    all_data=pd.Series({'fertilnyh':fertilnyh,'narodzhennyh':narodzhennyh,\\\n",
    "    'zhivonarodzhennyh':zhivonarodzhennyh,\\\n",
    "    'mertvonarodzhennyh':mertvonarodzhennyh,\\\n",
    "    'pomer':pomer})\n",
    "    \n",
    "    #количества по женщинам за текущий год\n",
    "    usogo_nar_f=narodzhennyh*koef_usogo_nar_f/100 #всего рожденных женщин\n",
    "    zhivonar_f=koef_zhivonar_f/100*zhivonarodzhennyh #количество живорожденных женщин\n",
    "    mertvonar_f=koef_mertvonar_f/100*mertvonarodzhennyh #количество мертворожденных женщин\n",
    "    pomer_f=koef_pomer_f/100*pomer #количество умерших женщин\n",
    "    \n",
    "    data_f=pd.Series({'usogo_nar_f':usogo_nar_f,'zhivonar_f':zhivonar_f,\\\n",
    "                      'mertvonar_f':mertvonar_f,'pomer_f':pomer_f})\n",
    "    \n",
    "    #количества по мужчинам за текущий год\n",
    "    zhivonar_m=koef_zhivonar_m/100*zhivonarodzhennyh\n",
    "    usogo_nar_m=narodzhennyh*koef_usogo_nar_m/100\n",
    "    mertvonar_m=koef_mertvonar_m/100*mertvonarodzhennyh\n",
    "    pomer_m=koef_pomer_m/100*pomer\n",
    "    \n",
    "    data_m=pd.Series({'usogo_nar_m':usogo_nar_m,'zhivonar_m':zhivonar_m,\\\n",
    "                     'mertvonar_m':mertvonar_m,'pomer_m':pomer_m})\n",
    "    \n",
    "    #серии відтворення населення\n",
    "    vidtvorennya_nas_f=pd.Series(pomer_f*koef_vidtvorennya_nas_f/100*(-1))\n",
    "    vidtvorennya_nas_m=pd.Series(pomer_m*koef_vidtvorennya_nas_m/100*(-1))\n",
    "    \n",
    "    # серии мигрантов\n",
    "    migrant=popTotal*koef_migrant/100\n",
    "    migrant_f=migrant*koef_migrant_f/100\n",
    "    migrant_f_years=pd.Series(koef_mizhnar_saldo_f*migrant_f/100)\n",
    "    migrant_m=migrant*koef_migrant_m/100\n",
    "    migrant_m_years=pd.Series(koef_mizhnar_saldo_m*migrant_m/100)\n",
    "    \n",
    "    # серии женщин следующего года по годам жизни\n",
    "    rest1=f_years[:-1]\n",
    "    rest2=vidtvorennya_nas_f.drop(0).reset_index(drop=True)\n",
    "    rest3=migrant_f_years.drop(0).reset_index(drop=True)\n",
    "    rest1=rest1.astype('float64')\n",
    "    rest4=rest1+rest2+rest3\n",
    "    rest4=rest4[:-1]\n",
    "    rest_first=zhivonar_f+vidtvorennya_nas_f[0]+migrant_f_years[0]\n",
    "    rest_last=pd.Series(f_years.iloc[-1]+f_years.iloc[-2]+\\\n",
    "                vidtvorennya_nas_f.iloc[-1]+\\\n",
    "                migrant_f_years.iloc[-1])\n",
    "    rest=rest4.append(rest_last).reset_index(drop=True)\n",
    "    rest.index=rest.index+1\n",
    "    rest_f=pd.concat([rest, pd.Series(rest_first)])\n",
    "    female_next=rest_f.sort_index()\n",
    "    \n",
    "    rest_series=pd.Series({'rest':rest,'rest1':rest1,\\\n",
    "                           'rest2':rest2,'rest3':rest3,\\\n",
    "                           'rest4':rest4,\\\n",
    "                           'rest_first':rest_first,'rest_last':rest_last})\n",
    "    \n",
    "    # серии мужчин следующего года по годам жизни\n",
    "    mrest1=m_years[:-1]\n",
    "    mrest2=vidtvorennya_nas_m.drop(0).reset_index(drop=True)\n",
    "    mrest3=migrant_m_years.drop(0).reset_index(drop=True)\n",
    "    mrest1=mrest1.astype('float64')\n",
    "    mrest4=mrest1+mrest2+mrest3\n",
    "    mrest4=mrest4[:-1]\n",
    "    mrest_first=zhivonar_m+vidtvorennya_nas_m[0]+migrant_m_years[0]\n",
    "    mrest_last=pd.Series(m_years.iloc[-1]+m_years.iloc[-2]+\\\n",
    "                vidtvorennya_nas_m.iloc[-1]+\\\n",
    "                migrant_m_years.iloc[-1])\n",
    "    mrest=mrest4.append(mrest_last).reset_index(drop=True)\n",
    "    mrest.index=mrest.index+1\n",
    "    rest_m=pd.concat([mrest, pd.Series(mrest_first)])\n",
    "    male_next=rest_m.sort_index()\n",
    "    pop_next=female_next+male_next\n",
    "    pop_next_total=pop_next.sum()\n",
    "    \n",
    "     \n",
    "    \n",
    "    return female_next,male_next,pop_next_total,vidtvorennya_nas_f       \n",
    "   "
   ]
  },
  {
   "cell_type": "code",
   "execution_count": 7,
   "metadata": {},
   "outputs": [],
   "source": [
    "def prognos(year,f_years,m_years,kfert):\n",
    "    z=[]\n",
    "    ye=[]\n",
    "    pop_total=f_years.sum()+m_years.sum()\n",
    "    for i in range(len(kfert)):\n",
    "        fy=model(f_years,m_years,pop_total,kfert[i],0.136060581939936)[0]\n",
    "        my=model(f_years,m_years,pop_total,kfert[i],0.136060581939936)[1]\n",
    "        pt=model(f_years,m_years,pop_total,kfert[i],0.136060581939936)[2]\n",
    "        z.append(model(f_years,m_years,pop_total,kfert[i],0.136060581939936)[2])\n",
    "        f_years=fy\n",
    "        m_years=my\n",
    "        pop_total=pt\n",
    "        ye.append(year+1+i)\n",
    "        \n",
    "    return pd.DataFrame(z,ye)"
   ]
  },
  {
   "cell_type": "code",
   "execution_count": 8,
   "metadata": {},
   "outputs": [
    {
     "data": {
      "text/plain": [
       "0   24692581\n",
       "Name: 2117, dtype: float64"
      ]
     },
     "execution_count": 8,
     "metadata": {},
     "output_type": "execute_result"
    }
   ],
   "source": [
    "f=pop2017[' жінки'].reset_index(drop=True)\n",
    "m=pop2017[' чоловіки'].reset_index(drop=True)\n",
    "\n",
    "kfert_good=np.insert(np.repeat(95,40),[0],[46,60,65,70,75,80,85,90])\n",
    "kfert_bad=np.repeat(46,37)\n",
    "\n",
    "prognos(2017,f,m,np.repeat(46,100)).iloc[-1,:]"
   ]
  }
 ],
 "metadata": {
  "kernelspec": {
   "display_name": "Python 3",
   "language": "python",
   "name": "python3"
  },
  "language_info": {
   "codemirror_mode": {
    "name": "ipython",
    "version": 3
   },
   "file_extension": ".py",
   "mimetype": "text/x-python",
   "name": "python",
   "nbconvert_exporter": "python",
   "pygments_lexer": "ipython3",
   "version": "3.7.0"
  },
  "varInspector": {
   "cols": {
    "lenName": 16,
    "lenType": 16,
    "lenVar": 40
   },
   "kernels_config": {
    "python": {
     "delete_cmd_postfix": "",
     "delete_cmd_prefix": "del ",
     "library": "var_list.py",
     "varRefreshCmd": "print(var_dic_list())"
    },
    "r": {
     "delete_cmd_postfix": ") ",
     "delete_cmd_prefix": "rm(",
     "library": "var_list.r",
     "varRefreshCmd": "cat(var_dic_list()) "
    }
   },
   "types_to_exclude": [
    "module",
    "function",
    "builtin_function_or_method",
    "instance",
    "_Feature"
   ],
   "window_display": false
  }
 },
 "nbformat": 4,
 "nbformat_minor": 2
}
