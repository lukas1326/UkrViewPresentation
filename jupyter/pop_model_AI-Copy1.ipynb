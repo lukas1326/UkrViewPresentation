{
 "cells": [
  {
   "cell_type": "code",
   "execution_count": 1,
   "metadata": {},
   "outputs": [],
   "source": [
    "import pandas as pd\n",
    "import numpy as np"
   ]
  },
  {
   "cell_type": "markdown",
   "metadata": {},
   "source": [
    "#### нужно получить распредение населения по возрастным группам\n",
    "#### 0-17, 18-60, 61 и старше в разрезе мужчин и женщин. Необходимо прогнозное\n",
    "#### количество женщин детородного возраста, чтобы по регулируемому показателю \n",
    "#### фертильности, получить прогноз всего населения Украины.\n",
    "#### Далее, зная фертильность и количество детей, можно спрогнозировать расходы\n",
    "#### которые должно взять на себя государство, чтобы увеличилась рождаемость."
   ]
  },
  {
   "cell_type": "markdown",
   "metadata": {},
   "source": [
    "#### try to recover demographic model by AI"
   ]
  },
  {
   "cell_type": "code",
   "execution_count": 2,
   "metadata": {},
   "outputs": [],
   "source": [
    "pop=pd.read_excel('data/pop_per_year.xlsx')"
   ]
  },
  {
   "cell_type": "code",
   "execution_count": 3,
   "metadata": {},
   "outputs": [
    {
     "data": {
      "text/html": [
       "<div>\n",
       "<style scoped>\n",
       "    .dataframe tbody tr th:only-of-type {\n",
       "        vertical-align: middle;\n",
       "    }\n",
       "\n",
       "    .dataframe tbody tr th {\n",
       "        vertical-align: top;\n",
       "    }\n",
       "\n",
       "    .dataframe thead th {\n",
       "        text-align: right;\n",
       "    }\n",
       "</style>\n",
       "<table border=\"1\" class=\"dataframe\">\n",
       "  <thead>\n",
       "    <tr style=\"text-align: right;\">\n",
       "      <th></th>\n",
       "      <th>рік</th>\n",
       "      <th>вік</th>\n",
       "      <th>Обидві статі</th>\n",
       "      <th>жінки</th>\n",
       "      <th>чоловіки</th>\n",
       "    </tr>\n",
       "  </thead>\n",
       "  <tbody>\n",
       "    <tr>\n",
       "      <th>81</th>\n",
       "      <td>2013</td>\n",
       "      <td>0</td>\n",
       "      <td>517301</td>\n",
       "      <td>250481</td>\n",
       "      <td>266820</td>\n",
       "    </tr>\n",
       "    <tr>\n",
       "      <th>82</th>\n",
       "      <td>2013</td>\n",
       "      <td>1</td>\n",
       "      <td>498371</td>\n",
       "      <td>241404</td>\n",
       "      <td>256967</td>\n",
       "    </tr>\n",
       "  </tbody>\n",
       "</table>\n",
       "</div>"
      ],
      "text/plain": [
       "     рік  вік  Обидві статі   жінки   чоловіки\n",
       "81  2013    0        517301  250481     266820\n",
       "82  2013    1        498371  241404     256967"
      ]
     },
     "execution_count": 3,
     "metadata": {},
     "output_type": "execute_result"
    }
   ],
   "source": [
    "pop2013=pop[pop['рік']==2013]#исходный факт\n",
    "pop2013.head(2)"
   ]
  },
  {
   "cell_type": "code",
   "execution_count": 29,
   "metadata": {
    "collapsed": true
   },
   "outputs": [
    {
     "data": {
      "text/plain": [
       "81      250481\n",
       "82      241404\n",
       "83      239007\n",
       "84      245566\n",
       "85      244798\n",
       "86      227055\n",
       "87      221913\n",
       "88      204225\n",
       "89      205192\n",
       "90      196268\n",
       "91      186444\n",
       "92      179524\n",
       "93      185083\n",
       "94      187721\n",
       "95      200438\n",
       "96      208355\n",
       "97      225219\n",
       "98      234332\n",
       "99      244076\n",
       "100     259220\n",
       "101     279194\n",
       "102     299083\n",
       "103     314764\n",
       "104     330232\n",
       "105     351783\n",
       "106     363524\n",
       "107     386262\n",
       "108     375765\n",
       "109     383941\n",
       "110     389828\n",
       "        ...   \n",
       "132     381487\n",
       "133     396061\n",
       "134     381217\n",
       "135     378939\n",
       "136     365271\n",
       "137     365189\n",
       "138     342681\n",
       "139     353371\n",
       "140     323827\n",
       "141     338670\n",
       "142     335628\n",
       "143     332377\n",
       "144     345616\n",
       "145     287067\n",
       "146     256176\n",
       "147     248269\n",
       "148     164270\n",
       "149     189500\n",
       "150     169271\n",
       "151     217977\n",
       "152     283565\n",
       "153     287070\n",
       "154     307428\n",
       "155     314494\n",
       "156     312567\n",
       "157     243573\n",
       "158     193575\n",
       "159     139130\n",
       "160     114835\n",
       "161    1183465\n",
       "Name:  жінки, Length: 81, dtype: int64"
      ]
     },
     "execution_count": 29,
     "metadata": {},
     "output_type": "execute_result"
    }
   ],
   "source": [
    "pop2013[' жінки']"
   ]
  },
  {
   "cell_type": "code",
   "execution_count": 144,
   "metadata": {},
   "outputs": [
    {
     "data": {
      "text/plain": [
       "45372692"
      ]
     },
     "execution_count": 144,
     "metadata": {},
     "output_type": "execute_result"
    }
   ],
   "source": [
    "pop_total2013=pop2013['Обидві статі'].sum()\n",
    "pop_total2013"
   ]
  },
  {
   "cell_type": "code",
   "execution_count": 5,
   "metadata": {},
   "outputs": [],
   "source": [
    "fert_years=np.arange(18,50)#детородный возраст"
   ]
  },
  {
   "cell_type": "code",
   "execution_count": 6,
   "metadata": {},
   "outputs": [],
   "source": [
    "koef2013=46 #детей на 1000 женщин детородного возраста- первый входной параметр\n",
    "fert2013=pop2013.loc[pop2013['вік'].isin(fert_years)][' жінки'].sum()"
   ]
  },
  {
   "cell_type": "code",
   "execution_count": 7,
   "metadata": {},
   "outputs": [
    {
     "data": {
      "text/plain": [
       "10606010"
      ]
     },
     "execution_count": 7,
     "metadata": {},
     "output_type": "execute_result"
    }
   ],
   "source": [
    "fert2013#женщин детородного возраста"
   ]
  },
  {
   "cell_type": "code",
   "execution_count": 34,
   "metadata": {},
   "outputs": [
    {
     "data": {
      "text/plain": [
       "10606010"
      ]
     },
     "execution_count": 34,
     "metadata": {},
     "output_type": "execute_result"
    }
   ],
   "source": [
    "fem=pop2013[' жінки'].reset_index(drop=True)\n",
    "fem[18:50].sum()"
   ]
  },
  {
   "cell_type": "code",
   "execution_count": 9,
   "metadata": {},
   "outputs": [
    {
     "data": {
      "text/plain": [
       "487876.46"
      ]
     },
     "execution_count": 9,
     "metadata": {},
     "output_type": "execute_result"
    }
   ],
   "source": [
    "narodzh2013=fert2013*koef2013/1000 #всего рожденных\n",
    "narodzh2013"
   ]
  },
  {
   "cell_type": "code",
   "execution_count": null,
   "metadata": {},
   "outputs": [],
   "source": []
  },
  {
   "cell_type": "code",
   "execution_count": 10,
   "metadata": {},
   "outputs": [
    {
     "data": {
      "text/plain": [
       "484868.7568196438"
      ]
     },
     "execution_count": 10,
     "metadata": {},
     "output_type": "execute_result"
    }
   ],
   "source": [
    "koef_zhyvinar=99.3835113134263 #коэффициент живорожденных от рожденных\n",
    "zhivonar2013=narodzh2013*koef_zhyvinar/100 #количество живорожденных\n",
    "zhivonar2013"
   ]
  },
  {
   "cell_type": "code",
   "execution_count": 11,
   "metadata": {},
   "outputs": [
    {
     "data": {
      "text/plain": [
       "3007.703180356346"
      ]
     },
     "execution_count": 11,
     "metadata": {},
     "output_type": "execute_result"
    }
   ],
   "source": [
    "koef_mertvonar=0.616488686573717 #коэффициент мертворожденных от родженных\n",
    "mertvonar2013=narodzh2013*koef_mertvonar/100#количество мертворожденных\n",
    "mertvonar2013"
   ]
  },
  {
   "cell_type": "code",
   "execution_count": 12,
   "metadata": {},
   "outputs": [
    {
     "data": {
      "text/plain": [
       "661963.2351342178"
      ]
     },
     "execution_count": 12,
     "metadata": {},
     "output_type": "execute_result"
    }
   ],
   "source": [
    "koef_pomer=1.45894635287282 #коэффициент умерших от всего населения\n",
    "pomer2013=pop_total2013*koef_pomer/100 #количество умерших\n",
    "pomer2013"
   ]
  },
  {
   "cell_type": "code",
   "execution_count": 13,
   "metadata": {},
   "outputs": [
    {
     "data": {
      "text/plain": [
       "236009.71955754064"
      ]
     },
     "execution_count": 13,
     "metadata": {},
     "output_type": "execute_result"
    }
   ],
   "source": [
    "koef_usogo_nar_f=48.3748938322502 #коэффициент всего рожденных женщин\n",
    "usogo_nar_f2013=narodzh2013*koef_usogo_nar_f/100 #всего рожденных женщин\n",
    "usogo_nar_f2013"
   ]
  },
  {
   "cell_type": "code",
   "execution_count": 14,
   "metadata": {},
   "outputs": [
    {
     "data": {
      "text/plain": [
       "234616.67808453357"
      ]
     },
     "execution_count": 14,
     "metadata": {},
     "output_type": "execute_result"
    }
   ],
   "source": [
    "koef_zhivonar_f=48.3876667210801 #коэффициент живорожденных женщин\n",
    "zhivonar2013_f=koef_zhivonar_f/100*zhivonar2013 #количество живорожденных женщин\n",
    "zhivonar2013_f"
   ]
  },
  {
   "cell_type": "code",
   "execution_count": 82,
   "metadata": {
    "collapsed": true
   },
   "outputs": [
    {
     "data": {
      "text/plain": [
       "1393.0414730071493"
      ]
     },
     "execution_count": 82,
     "metadata": {},
     "output_type": "execute_result"
    }
   ],
   "source": [
    "koef_mertvonar_f=46.3157894736842 #коэффициент мертворожденных женщин\n",
    "mertvonar2013_f=koef_mertvonar_f/100*mertvonar2013 #количество мертворожденных женщин\n",
    "mertvonar2013_f"
   ]
  },
  {
   "cell_type": "code",
   "execution_count": 15,
   "metadata": {},
   "outputs": [
    {
     "data": {
      "text/plain": [
       "336956.50510033447"
      ]
     },
     "execution_count": 15,
     "metadata": {},
     "output_type": "execute_result"
    }
   ],
   "source": [
    "koef_pomer_f=50.9026011137936 #коэффициент умерших женщин\n",
    "pomer2013_f=koef_pomer_f/100*pomer2013 #количество умерших женщин\n",
    "pomer2013_f"
   ]
  },
  {
   "cell_type": "code",
   "execution_count": 16,
   "metadata": {},
   "outputs": [
    {
     "data": {
      "text/plain": [
       "(251866.74044245938, 250252.0787351102, 1614.6617073491966, 325006.7300338833)"
      ]
     },
     "execution_count": 16,
     "metadata": {},
     "output_type": "execute_result"
    }
   ],
   "source": [
    "#коэффициенты по мужчинам\n",
    "koef_usogo_nar_m=51.6251061677498\n",
    "koef_zhivonar_m=51.6123332789199\n",
    "koef_mertvonar_m=53.6842105263158\n",
    "koef_pomer_m=49.0973988862064\n",
    "#количества по мужчинам\n",
    "zhivonar2013_m=koef_zhivonar_m/100*zhivonar2013\n",
    "usogo_nar_m2013=narodzh2013*koef_usogo_nar_m/100\n",
    "mertvonar2013_m=koef_mertvonar_m/100*mertvonar2013\n",
    "pomer2013_m=koef_pomer_m/100*pomer2013\n",
    "usogo_nar_m2013,zhivonar2013_m,mertvonar2013_m,pomer2013_m"
   ]
  },
  {
   "cell_type": "code",
   "execution_count": 17,
   "metadata": {},
   "outputs": [],
   "source": [
    "#коэффициенты відтворення та міграції по мужчинам и женщинам\n",
    "#выделены из файлы модели, нужно сделать отдельными сериями,чтобы не привязываться к файлам\n",
    "koef_vidtvorennya_nas_f=pd.read_excel('D:/Users/o.lukasevych/Documents/Python_Scripts/Ukr_budget/excel/Copy of Демографическая модель изменения населения Украины.xlsx',\\\n",
    "                                     sheet_name='Sheet1')['відтворення населення жінки']\n",
    "koef_vidtvorennya_nas_m=pd.read_excel('D:/Users/o.lukasevych/Documents/Python_Scripts/Ukr_budget/excel/Copy of Демографическая модель изменения населения Украины.xlsx',\\\n",
    "                                     sheet_name='Sheet1')['відтворення населення чоловіка']\n",
    "koef_mizhnar_saldo_f=pd.read_excel('D:/Users/o.lukasevych/Documents/Python_Scripts/Ukr_budget/excel/Copy of Демографическая модель изменения населения Украины.xlsx',\\\n",
    "                                     sheet_name='Sheet1')['міжнародне сально жінки']\n",
    "koef_mizhnar_saldo_m=pd.read_excel('D:/Users/o.lukasevych/Documents/Python_Scripts/Ukr_budget/excel/Copy of Демографическая модель изменения населения Украины.xlsx',\\\n",
    "                                     sheet_name='Sheet1')['міжнародне сальдо чоловіка']"
   ]
  },
  {
   "cell_type": "code",
   "execution_count": 18,
   "metadata": {},
   "outputs": [],
   "source": [
    "#\n",
    "vidtvorennya_nas_f2013=pd.Series(pomer2013_f*koef_vidtvorennya_nas_f/100*(-1))\n",
    "vidtvorennya_nas_m2013=pd.Series(pomer2013_m*koef_vidtvorennya_nas_m/100*(-1))"
   ]
  },
  {
   "cell_type": "code",
   "execution_count": 19,
   "metadata": {},
   "outputs": [],
   "source": [
    "koef_migrant=0.136060581939936\n",
    "migrant2013=pop_total2013*koef_migrant/100\n",
    "koef_migrant_f=30.6820386779639\n",
    "migrant2013_f=migrant2013*koef_migrant_f/100\n",
    "migrant2013_f_years=pd.Series(koef_mizhnar_saldo_f*migrant2013_f/100)"
   ]
  },
  {
   "cell_type": "code",
   "execution_count": 20,
   "metadata": {},
   "outputs": [],
   "source": [
    "koef_migrant_m=69.3179613220361\n",
    "migrant2013_m=migrant2013*koef_migrant_m/100\n",
    "migrant2013_m_years=pd.Series(koef_mizhnar_saldo_m*migrant2013_m/100)"
   ]
  },
  {
   "cell_type": "code",
   "execution_count": 21,
   "metadata": {},
   "outputs": [],
   "source": [
    "rest1=pop2013[' жінки'].drop(pop2013.index[-1]).reset_index(drop=True)\n",
    "rest2=vidtvorennya_nas_f2013.drop(0).reset_index(drop=True)\n",
    "rest3=migrant2013_f_years.drop(0).reset_index(drop=True)\n",
    "rest1=rest1.astype('float64')\n",
    "rest4=rest1+rest2+rest3\n",
    "rest4=rest4[:-1]\n",
    "rest_first=zhivonar2013_f+vidtvorennya_nas_f2013[0]+migrant2013_f_years[0]\n",
    "rest_last=pd.Series(pop2013[' жінки'].iloc[[-1]].reset_index(drop=True)+\\\n",
    "pop2013[' жінки'].iloc[[-2]].reset_index(drop=True)+\\\n",
    "vidtvorennya_nas_f2013.iloc[-1]+\\\n",
    "migrant2013_f_years.iloc[-1])\n",
    "rest=rest4.append(rest_last).reset_index(drop=True)\n",
    "rest.index=rest.index+1\n",
    "rest_f2013=pd.concat([rest, pd.Series(rest_first)])\n",
    "female2014=rest_f2013.sort_index()"
   ]
  },
  {
   "cell_type": "code",
   "execution_count": 23,
   "metadata": {},
   "outputs": [],
   "source": [
    "rest1=pop2013[' чоловіки'].drop(pop2013.index[-1]).reset_index(drop=True)\n",
    "rest2=vidtvorennya_nas_m2013.drop(0).reset_index(drop=True)\n",
    "rest3=migrant2013_m_years.drop(0).reset_index(drop=True)\n",
    "rest1=rest1.astype('float64')\n",
    "rest4=rest1+rest2+rest3\n",
    "rest4=rest4[:-1]\n",
    "rest_first=zhivonar2013_m+vidtvorennya_nas_m2013[0]+migrant2013_m_years[0]\n",
    "rest_last=pd.Series(pop2013[' чоловіки'].iloc[[-1]].reset_index(drop=True)+\\\n",
    "pop2013[' чоловіки'].iloc[[-2]].reset_index(drop=True)+\\\n",
    "vidtvorennya_nas_m2013.iloc[-1]+\\\n",
    "migrant2013_m_years.iloc[-1])\n",
    "rest=rest4.append(rest_last).reset_index(drop=True)\n",
    "rest.index=rest.index+1\n",
    "rest_m2013=pd.concat([rest, pd.Series(rest_first)])\n",
    "male2014=rest_m2013.sort_index()"
   ]
  },
  {
   "cell_type": "code",
   "execution_count": 24,
   "metadata": {
    "collapsed": true
   },
   "outputs": [
    {
     "data": {
      "text/plain": [
       "0     247865.318048\n",
       "1     266800.784131\n",
       "2     256947.784131\n",
       "3     254217.784131\n",
       "4     262014.784131\n",
       "5     260461.420567\n",
       "6     239889.420567\n",
       "7     233140.420567\n",
       "8     216591.420567\n",
       "9     216903.420567\n",
       "10    206920.424113\n",
       "11    198382.424113\n",
       "12    190327.424113\n",
       "13    195837.424113\n",
       "14    197733.424113\n",
       "15    210601.147903\n",
       "16    220263.147903\n",
       "17    237920.147903\n",
       "18    248183.147903\n",
       "19    259812.147903\n",
       "20    276299.233031\n",
       "21    297300.233031\n",
       "22    318389.233031\n",
       "23    334278.233031\n",
       "24    349231.233031\n",
       "25    368468.899297\n",
       "26    380169.899297\n",
       "27    401711.899297\n",
       "28    388715.899297\n",
       "29    397080.899297\n",
       "          ...      \n",
       "51    310355.347781\n",
       "52    320013.347781\n",
       "53    328824.347781\n",
       "54    309218.347781\n",
       "55    302373.408041\n",
       "56    285797.408041\n",
       "57    280439.408041\n",
       "58    257597.408041\n",
       "59    260949.408041\n",
       "60    232648.538863\n",
       "61    239882.538863\n",
       "62    235938.538863\n",
       "63    228688.538863\n",
       "64    230394.538863\n",
       "65    188832.210528\n",
       "66    162519.210528\n",
       "67    150933.210528\n",
       "68     93208.210528\n",
       "69    104728.210528\n",
       "70     86296.456887\n",
       "71    110608.456887\n",
       "72    145590.456887\n",
       "73    144103.456887\n",
       "74    146067.456887\n",
       "75    148075.711183\n",
       "76    147439.711183\n",
       "77    112633.711183\n",
       "78     86537.711183\n",
       "79     58324.711183\n",
       "80    409080.782427\n",
       "Length: 81, dtype: float64"
      ]
     },
     "execution_count": 24,
     "metadata": {},
     "output_type": "execute_result"
    }
   ],
   "source": [
    "male2014\n"
   ]
  },
  {
   "cell_type": "code",
   "execution_count": 27,
   "metadata": {
    "collapsed": true
   },
   "outputs": [
    {
     "data": {
      "text/plain": [
       "0     4.807004e+05\n",
       "1     5.172805e+05\n",
       "2     4.983505e+05\n",
       "3     4.932235e+05\n",
       "4     5.075795e+05\n",
       "5     5.052578e+05\n",
       "6     4.669428e+05\n",
       "7     4.550518e+05\n",
       "8     4.208148e+05\n",
       "9     4.220938e+05\n",
       "10    4.031754e+05\n",
       "11    3.848134e+05\n",
       "12    3.698384e+05\n",
       "13    3.809074e+05\n",
       "14    3.854414e+05\n",
       "15    4.115596e+05\n",
       "16    4.291386e+05\n",
       "17    4.636596e+05\n",
       "18    4.830356e+05\n",
       "19    5.044086e+05\n",
       "20    5.365598e+05\n",
       "21    5.775348e+05\n",
       "22    6.185128e+05\n",
       "23    6.500828e+05\n",
       "24    6.805038e+05\n",
       "25    7.203843e+05\n",
       "26    7.438263e+05\n",
       "27    7.881063e+05\n",
       "28    7.646133e+05\n",
       "29    7.811543e+05\n",
       "          ...     \n",
       "51    6.769950e+05\n",
       "52    6.997930e+05\n",
       "53    7.231780e+05\n",
       "54    6.887280e+05\n",
       "55    6.788668e+05\n",
       "56    6.486228e+05\n",
       "57    6.431828e+05\n",
       "58    5.978328e+05\n",
       "59    6.118748e+05\n",
       "60    5.528162e+05\n",
       "61    5.748932e+05\n",
       "62    5.679072e+05\n",
       "63    5.574062e+05\n",
       "64    5.723512e+05\n",
       "65    4.722092e+05\n",
       "66    4.150052e+05\n",
       "67    3.955122e+05\n",
       "68    2.537882e+05\n",
       "69    2.905382e+05\n",
       "70    2.461400e+05\n",
       "71    3.191580e+05\n",
       "72    4.197280e+05\n",
       "73    4.217460e+05\n",
       "74    4.440680e+05\n",
       "75    4.523682e+05\n",
       "76    4.498052e+05\n",
       "77    3.460052e+05\n",
       "78    2.699112e+05\n",
       "79    1.872532e+05\n",
       "80    1.551013e+06\n",
       "Length: 81, dtype: float64"
      ]
     },
     "execution_count": 27,
     "metadata": {},
     "output_type": "execute_result"
    }
   ],
   "source": [
    "pop2014=female2014+male2014\n",
    "pop2014"
   ]
  },
  {
   "cell_type": "code",
   "execution_count": 46,
   "metadata": {},
   "outputs": [],
   "source": [
    "pop2014=pop2014.sum()"
   ]
  },
  {
   "cell_type": "code",
   "execution_count": 173,
   "metadata": {},
   "outputs": [],
   "source": [
    "koef_zhyvonar=99.3835113134263 #коэффициент живорожденных от рожденных\n",
    "koef_mertvonar=0.616488686573717 #коэффициент мертворожденных от родженных\n",
    "koef_pomer=1.45894635287282 #коэффициент умерших от всего населения\n",
    "\n",
    "koef_usogo_nar_f=48.3748938322502 #коэффициент всего рожденных женщин\n",
    "koef_zhivonar_f=48.3876667210801 #коэффициент живорожденных женщин\n",
    "koef_mertvonar_f=46.3157894736842 #коэффициент мертворожденных женщин\n",
    "koef_pomer_f=50.9026011137936 #коэффициент умерших женщин\n",
    "\n",
    "  #коэффициенты по мужчинам\n",
    "koef_usogo_nar_m=51.6251061677498\n",
    "koef_zhivonar_m=51.6123332789199\n",
    "koef_mertvonar_m=53.6842105263158\n",
    "koef_pomer_m=49.0973988862064\n",
    "\n",
    "    #коэффициенты миграции\n",
    "koef_migrant_f=30.6820386779639\n",
    "koef_migrant_m=69.3179613220361\n",
    "\n",
    "# на входе функции серия женщин по годам жизни,серия мужчины по годам жизни, всего населения\n",
    "# кол-во детей на 1000 женщин,коеффициент миграции\n",
    "def model(f_years,m_years,popTotal,koef_fert,koef_migrant):\n",
    "    fertilnyh=f_years[18:50].sum()\n",
    "    narodzhennyh=fertilnyh*koef_fert/1000\n",
    "    zhivonarodzhennyh=narodzhennyh*koef_zhyvonar/100\n",
    "    mertvonarodzhennyh=narodzhennyh*koef_mertvonar/100\n",
    "    pomer=popTotal*koef_pomer/100\n",
    "    \n",
    "    all_data=pd.Series({'fertilnyh':fertilnyh,'narodzhennyh':narodzhennyh,\\\n",
    "    'zhivonarodzhennyh':zhivonarodzhennyh,\\\n",
    "    'mertvonarodzhennyh':mertvonarodzhennyh,\\\n",
    "    'pomer':pomer})\n",
    "    \n",
    "    #количества по женщинам за текущий год\n",
    "    usogo_nar_f=narodzhennyh*koef_usogo_nar_f/100 #всего рожденных женщин\n",
    "    zhivonar_f=koef_zhivonar_f/100*zhivonarodzhennyh #количество живорожденных женщин\n",
    "    mertvonar_f=koef_mertvonar_f/100*mertvonarodzhennyh #количество мертворожденных женщин\n",
    "    pomer_f=koef_pomer_f/100*pomer #количество умерших женщин\n",
    "    \n",
    "    data_f=pd.Series({'usogo_nar_f':usogo_nar_f,'zhivonar_f':zhivonar_f,\\\n",
    "                      'mertvonar_f':mertvonar_f,'pomer_f':pomer_f})\n",
    "    \n",
    "    #количества по мужчинам за текущий год\n",
    "    zhivonar_m=koef_zhivonar_m/100*zhivonarodzhennyh\n",
    "    usogo_nar_m=narodzhennyh*koef_usogo_nar_m/100\n",
    "    mertvonar_m=koef_mertvonar_m/100*mertvonarodzhennyh\n",
    "    pomer_m=koef_pomer_m/100*pomer\n",
    "    \n",
    "    data_m=pd.Series({'usogo_nar_m':usogo_nar_m,'zhivonar_m':zhivonar_m,\\\n",
    "                     'mertvonar_m':mertvonar_m,'pomer_m':pomer_m})\n",
    "    \n",
    "    #серии відтворення населення\n",
    "    vidtvorennya_nas_f=pd.Series(pomer_f*koef_vidtvorennya_nas_f/100*(-1))\n",
    "    vidtvorennya_nas_m=pd.Series(pomer_m*koef_vidtvorennya_nas_m/100*(-1))\n",
    "    \n",
    "    # серии мигрантов\n",
    "    migrant=popTotal*koef_migrant/100\n",
    "    migrant_f=migrant*koef_migrant_f/100\n",
    "    migrant_f_years=pd.Series(koef_mizhnar_saldo_f*migrant_f/100)\n",
    "    migrant_m=migrant*koef_migrant_m/100\n",
    "    migrant_m_years=pd.Series(koef_mizhnar_saldo_m*migrant_m/100)\n",
    "    \n",
    "    # серии женщин следующего года по годам жизни\n",
    "    rest1=f_years[:-1]\n",
    "    rest2=vidtvorennya_nas_f.drop(0).reset_index(drop=True)\n",
    "    rest3=migrant_f_years.drop(0).reset_index(drop=True)\n",
    "    rest1=rest1.astype('float64')\n",
    "    rest4=rest1+rest2+rest3\n",
    "    rest4=rest4[:-1]\n",
    "    rest_first=zhivonar_f+vidtvorennya_nas_f[0]+migrant_f_years[0]\n",
    "    rest_last=pd.Series(f_years.iloc[-1]+f_years.iloc[-2]+\\\n",
    "                vidtvorennya_nas_f.iloc[-1]+\\\n",
    "                migrant_f_years.iloc[-1])\n",
    "    rest=rest4.append(rest_last).reset_index(drop=True)\n",
    "    rest.index=rest.index+1\n",
    "    rest_f=pd.concat([rest, pd.Series(rest_first)])\n",
    "    female_next=rest_f.sort_index()\n",
    "    \n",
    "    rest_series=pd.Series({'rest':rest,'rest1':rest1,\\\n",
    "                           'rest2':rest2,'rest3':rest3,\\\n",
    "                           'rest4':rest4,\\\n",
    "                           'rest_first':rest_first,'rest_last':rest_last})\n",
    "    \n",
    "    # серии мужчин следующего года по годам жизни\n",
    "    mrest1=m_years[:-1]\n",
    "    mrest2=vidtvorennya_nas_m.drop(0).reset_index(drop=True)\n",
    "    mrest3=migrant_m_years.drop(0).reset_index(drop=True)\n",
    "    mrest1=mrest1.astype('float64')\n",
    "    mrest4=mrest1+mrest2+mrest3\n",
    "    mrest4=mrest4[:-1]\n",
    "    mrest_first=zhivonar_m+vidtvorennya_nas_m[0]+migrant_m_years[0]\n",
    "    mrest_last=pd.Series(m_years.iloc[-1]+m_years.iloc[-2]+\\\n",
    "                vidtvorennya_nas_m.iloc[-1]+\\\n",
    "                migrant_m_years.iloc[-1])\n",
    "    mrest=mrest4.append(mrest_last).reset_index(drop=True)\n",
    "    mrest.index=mrest.index+1\n",
    "    rest_m=pd.concat([mrest, pd.Series(mrest_first)])\n",
    "    male_next=rest_m.sort_index()\n",
    "    pop_next=female_next+male_next\n",
    "    pop_next_total=pop_next.sum()\n",
    "    \n",
    "     \n",
    "    \n",
    "    return female_next,male_next,pop_next_total,all_data        \n",
    "   "
   ]
  },
  {
   "cell_type": "code",
   "execution_count": 166,
   "metadata": {},
   "outputs": [],
   "source": [
    "f_years=pop2013[' жінки'].reset_index(drop=True)\n",
    "m_years=pop2013[' чоловіки'].reset_index(drop=True)"
   ]
  },
  {
   "cell_type": "code",
   "execution_count": 174,
   "metadata": {},
   "outputs": [],
   "source": [
    "f=model(f_years,m_years,pop_total2013,46,0.136060581939936)[0]\n",
    "m=model(f_years,m_years,pop_total2013,46,0.136060581939936)[1]\n",
    "p=model(f_years,m_years,pop_total2013,46,0.136060581939936)[2]\n",
    "model2014=model(f,m,p,46,0.136060581939936)"
   ]
  },
  {
   "cell_type": "code",
   "execution_count": 175,
   "metadata": {},
   "outputs": [
    {
     "data": {
      "text/plain": [
       "fertilnyh             1.047690e+07\n",
       "narodzhennyh          4.819375e+05\n",
       "zhivonarodzhennyh     4.789664e+05\n",
       "mertvonarodzhennyh    2.971090e+03\n",
       "pomer                 6.602802e+05\n",
       "dtype: float64"
      ]
     },
     "execution_count": 175,
     "metadata": {},
     "output_type": "execute_result"
    }
   ],
   "source": [
    "model2014[3]"
   ]
  },
  {
   "cell_type": "code",
   "execution_count": 136,
   "metadata": {},
   "outputs": [
    {
     "data": {
      "text/plain": [
       "[45257331.87046244, 45137595.510339275]"
      ]
     },
     "execution_count": 136,
     "metadata": {},
     "output_type": "execute_result"
    }
   ],
   "source": [
    "z=[]\n",
    "f_years=pop2013[' жінки'].reset_index(drop=True)\n",
    "m_years=pop2013[' чоловіки'].reset_index(drop=True)\n",
    "pop_total=pop_total2013\n",
    "for i in range(2):\n",
    "    fy=model(f_years,m_years,pop_total,46,0.136060581939936)[0]\n",
    "    my=model(f_years,m_years,pop_total,46,0.136060581939936)[1]\n",
    "    pt=model(f_years,m_years,pop_total,46,0.136060581939936)[2]\n",
    "    z.append(model(f_years,m_years,pop_total,46,0.136060581939936)[2])\n",
    "    f_years=fy\n",
    "    m_years=my\n",
    "    pop_total=pt\n",
    "    \n",
    "z"
   ]
  },
  {
   "cell_type": "code",
   "execution_count": 138,
   "metadata": {},
   "outputs": [
    {
     "data": {
      "text/plain": [
       "0     244825.064766\n",
       "1     247846.151035\n",
       "2     266781.617118\n",
       "3     256928.617118\n",
       "4     254198.617118\n",
       "5     262003.234139\n",
       "6     260449.870575\n",
       "7     239877.870575\n",
       "8     233128.870575\n",
       "9     216579.870575\n",
       "10    216889.879197\n",
       "11    206906.882743\n",
       "12    198368.882743\n",
       "13    190313.882743\n",
       "14    195823.882743\n",
       "15    199222.775685\n",
       "16    212090.499475\n",
       "17    221752.499475\n",
       "18    239409.499475\n",
       "19    249672.499475\n",
       "20    262376.843571\n",
       "21    278863.928699\n",
       "22    299864.928699\n",
       "23    320953.928699\n",
       "24    336842.928699\n",
       "25    349512.415598\n",
       "26    368750.081864\n",
       "27    380451.081864\n",
       "28    401993.081864\n",
       "29    388997.081864\n",
       "          ...      \n",
       "51    300267.072371\n",
       "52    305892.072371\n",
       "53    315550.072371\n",
       "54    324361.072371\n",
       "55    303598.081780\n",
       "56    296753.142040\n",
       "57    280177.142040\n",
       "58    274819.142040\n",
       "59    251977.142040\n",
       "60    253907.895593\n",
       "61    225607.026415\n",
       "62    232841.026415\n",
       "63    228897.026415\n",
       "64    221647.026415\n",
       "65    224997.506330\n",
       "66    183435.177995\n",
       "67    157122.177995\n",
       "68    145536.177995\n",
       "69     87811.177995\n",
       "70     94700.228562\n",
       "71     76268.474921\n",
       "72    100580.474921\n",
       "73    135562.474921\n",
       "74    134075.474921\n",
       "75    138030.653738\n",
       "76    140038.908034\n",
       "77    139402.908034\n",
       "78    104596.908034\n",
       "79     78500.908034\n",
       "80    405754.423513\n",
       "Length: 81, dtype: float64"
      ]
     },
     "execution_count": 138,
     "metadata": {},
     "output_type": "execute_result"
    }
   ],
   "source": [
    "m_years\n",
    "\n"
   ]
  }
 ],
 "metadata": {
  "kernelspec": {
   "display_name": "Python 3",
   "language": "python",
   "name": "python3"
  },
  "language_info": {
   "codemirror_mode": {
    "name": "ipython",
    "version": 3
   },
   "file_extension": ".py",
   "mimetype": "text/x-python",
   "name": "python",
   "nbconvert_exporter": "python",
   "pygments_lexer": "ipython3",
   "version": "3.7.0"
  },
  "varInspector": {
   "cols": {
    "lenName": 16,
    "lenType": 16,
    "lenVar": 40
   },
   "kernels_config": {
    "python": {
     "delete_cmd_postfix": "",
     "delete_cmd_prefix": "del ",
     "library": "var_list.py",
     "varRefreshCmd": "print(var_dic_list())"
    },
    "r": {
     "delete_cmd_postfix": ") ",
     "delete_cmd_prefix": "rm(",
     "library": "var_list.r",
     "varRefreshCmd": "cat(var_dic_list()) "
    }
   },
   "types_to_exclude": [
    "module",
    "function",
    "builtin_function_or_method",
    "instance",
    "_Feature"
   ],
   "window_display": false
  }
 },
 "nbformat": 4,
 "nbformat_minor": 2
}
