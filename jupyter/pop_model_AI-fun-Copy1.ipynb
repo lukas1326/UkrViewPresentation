{
 "cells": [
  {
   "cell_type": "code",
   "execution_count": 1,
   "metadata": {},
   "outputs": [],
   "source": [
    "import pandas as pd\n",
    "import numpy as np\n",
    "pd.set_option('display.float_format', lambda x: '%.2f' % x)"
   ]
  },
  {
   "cell_type": "markdown",
   "metadata": {},
   "source": [
    "#### нужно получить распредение населения по возрастным группам\n",
    "#### 0-17, 18-60, 61 и старше в разрезе мужчин и женщин. Необходимо прогнозное\n",
    "#### количество женщин детородного возраста, чтобы по регулируемому показателю \n",
    "#### фертильности, получить прогноз всего населения Украины.\n",
    "#### Далее, зная фертильность и количество детей, можно спрогнозировать расходы\n",
    "#### которые должно взять на себя государство, чтобы увеличилась рождаемость."
   ]
  },
  {
   "cell_type": "markdown",
   "metadata": {},
   "source": [
    "#### try to recover AI's demographic  model"
   ]
  },
  {
   "cell_type": "code",
   "execution_count": 2,
   "metadata": {},
   "outputs": [],
   "source": [
    "pop=pd.read_excel('data/pop_per_year.xlsx')#с 2012 по 2018 по годам жизни мужчины и женщины"
   ]
  },
  {
   "cell_type": "code",
   "execution_count": 3,
   "metadata": {},
   "outputs": [
    {
     "data": {
      "text/html": [
       "<div>\n",
       "<style scoped>\n",
       "    .dataframe tbody tr th:only-of-type {\n",
       "        vertical-align: middle;\n",
       "    }\n",
       "\n",
       "    .dataframe tbody tr th {\n",
       "        vertical-align: top;\n",
       "    }\n",
       "\n",
       "    .dataframe thead th {\n",
       "        text-align: right;\n",
       "    }\n",
       "</style>\n",
       "<table border=\"1\" class=\"dataframe\">\n",
       "  <thead>\n",
       "    <tr style=\"text-align: right;\">\n",
       "      <th></th>\n",
       "      <th>рік</th>\n",
       "      <th>вік</th>\n",
       "      <th>Обидві статі</th>\n",
       "      <th>жінки</th>\n",
       "      <th>чоловіки</th>\n",
       "    </tr>\n",
       "  </thead>\n",
       "  <tbody>\n",
       "    <tr>\n",
       "      <th>81</th>\n",
       "      <td>2013</td>\n",
       "      <td>0</td>\n",
       "      <td>517301</td>\n",
       "      <td>250481</td>\n",
       "      <td>266820</td>\n",
       "    </tr>\n",
       "    <tr>\n",
       "      <th>82</th>\n",
       "      <td>2013</td>\n",
       "      <td>1</td>\n",
       "      <td>498371</td>\n",
       "      <td>241404</td>\n",
       "      <td>256967</td>\n",
       "    </tr>\n",
       "  </tbody>\n",
       "</table>\n",
       "</div>"
      ],
      "text/plain": [
       "     рік  вік  Обидві статі   жінки   чоловіки\n",
       "81  2013    0        517301  250481     266820\n",
       "82  2013    1        498371  241404     256967"
      ]
     },
     "execution_count": 3,
     "metadata": {},
     "output_type": "execute_result"
    }
   ],
   "source": [
    "pop2013=pop[pop['рік']==2013]#исходный факт\n",
    "pop2013.head(2)"
   ]
  },
  {
   "cell_type": "code",
   "execution_count": 4,
   "metadata": {},
   "outputs": [
    {
     "data": {
      "text/html": [
       "<div>\n",
       "<style scoped>\n",
       "    .dataframe tbody tr th:only-of-type {\n",
       "        vertical-align: middle;\n",
       "    }\n",
       "\n",
       "    .dataframe tbody tr th {\n",
       "        vertical-align: top;\n",
       "    }\n",
       "\n",
       "    .dataframe thead th {\n",
       "        text-align: right;\n",
       "    }\n",
       "</style>\n",
       "<table border=\"1\" class=\"dataframe\">\n",
       "  <thead>\n",
       "    <tr style=\"text-align: right;\">\n",
       "      <th></th>\n",
       "      <th>рік</th>\n",
       "      <th>вік</th>\n",
       "      <th>Обидві статі</th>\n",
       "      <th>жінки</th>\n",
       "      <th>чоловіки</th>\n",
       "    </tr>\n",
       "  </thead>\n",
       "  <tbody>\n",
       "    <tr>\n",
       "      <th>405</th>\n",
       "      <td>2017</td>\n",
       "      <td>0</td>\n",
       "      <td>394626</td>\n",
       "      <td>190833</td>\n",
       "      <td>203793</td>\n",
       "    </tr>\n",
       "    <tr>\n",
       "      <th>406</th>\n",
       "      <td>2017</td>\n",
       "      <td>1</td>\n",
       "      <td>408645</td>\n",
       "      <td>197600</td>\n",
       "      <td>211045</td>\n",
       "    </tr>\n",
       "  </tbody>\n",
       "</table>\n",
       "</div>"
      ],
      "text/plain": [
       "      рік  вік  Обидві статі   жінки   чоловіки\n",
       "405  2017    0        394626  190833     203793\n",
       "406  2017    1        408645  197600     211045"
      ]
     },
     "execution_count": 4,
     "metadata": {},
     "output_type": "execute_result"
    }
   ],
   "source": [
    "pop2017=pop[pop['рік']==2017]#исходный факт\n",
    "pop2017.head(2)"
   ]
  },
  {
   "cell_type": "code",
   "execution_count": 5,
   "metadata": {},
   "outputs": [],
   "source": [
    "#коэффициенты відтворення та міграції по мужчинам и женщинам\n",
    "#выделены из файлы модели, нужно сделать отдельными сериями,чтобы не привязываться к файлам\n",
    "koef_vidtvorennya_nas_f=pd.read_excel('D:/Users/o.lukasevych/Documents/Python_Scripts/Ukr_budget/excel/Copy of Демографическая модель изменения населения Украины.xlsx',\\\n",
    "                                     sheet_name='Sheet1')['відтворення населення жінки']\n",
    "koef_vidtvorennya_nas_m=pd.read_excel('D:/Users/o.lukasevych/Documents/Python_Scripts/Ukr_budget/excel/Copy of Демографическая модель изменения населения Украины.xlsx',\\\n",
    "                                     sheet_name='Sheet1')['відтворення населення чоловіка']\n",
    "koef_mizhnar_saldo_f=pd.read_excel('D:/Users/o.lukasevych/Documents/Python_Scripts/Ukr_budget/excel/Copy of Демографическая модель изменения населения Украины.xlsx',\\\n",
    "                                     sheet_name='Sheet1')['міжнародне сально жінки']\n",
    "koef_mizhnar_saldo_m=pd.read_excel('D:/Users/o.lukasevych/Documents/Python_Scripts/Ukr_budget/excel/Copy of Демографическая модель изменения населения Украины.xlsx',\\\n",
    "                                     sheet_name='Sheet1')['міжнародне сальдо чоловіка']"
   ]
  },
  {
   "cell_type": "code",
   "execution_count": 6,
   "metadata": {},
   "outputs": [],
   "source": [
    "koef_zhyvonar=99.3835113134263 #коэффициент живорожденных от рожденных\n",
    "koef_mertvonar=0.616488686573717 #коэффициент мертворожденных от родженных\n",
    "koef_pomer=1.45894635287282 #коэффициент умерших от всего населения\n",
    "\n",
    "koef_usogo_nar_f=48.3748938322502 #коэффициент всего рожденных женщин\n",
    "koef_zhivonar_f=48.3876667210801 #коэффициент живорожденных женщин\n",
    "koef_mertvonar_f=46.3157894736842 #коэффициент мертворожденных женщин\n",
    "koef_pomer_f=50.9026011137936 #коэффициент умерших женщин\n",
    "\n",
    "  #коэффициенты по мужчинам\n",
    "koef_usogo_nar_m=51.6251061677498\n",
    "koef_zhivonar_m=51.6123332789199\n",
    "koef_mertvonar_m=53.6842105263158\n",
    "koef_pomer_m=49.0973988862064\n",
    "\n",
    "    #коэффициенты миграции\n",
    "koef_migrant_f=30.6820386779639\n",
    "koef_migrant_m=69.3179613220361\n",
    "\n",
    "# на входе функции серия женщин по годам жизни,серия мужчины по годам жизни, всего населения\n",
    "# кол-во детей на 1000 женщин,коеффициент миграции\n",
    "def model(f_years,m_years,popTotal,koef_fert,koef_migrant):\n",
    "    fertilnyh=f_years[18:50].sum()\n",
    "    narodzhennyh=fertilnyh*koef_fert/1000\n",
    "    zhivonarodzhennyh=narodzhennyh*koef_zhyvonar/100\n",
    "    mertvonarodzhennyh=narodzhennyh*koef_mertvonar/100\n",
    "    pomer=popTotal*koef_pomer/100\n",
    "    \n",
    "    all_data=pd.Series({'fertilnyh':fertilnyh,'narodzhennyh':narodzhennyh,\\\n",
    "    'zhivonarodzhennyh':zhivonarodzhennyh,\\\n",
    "    'mertvonarodzhennyh':mertvonarodzhennyh,\\\n",
    "    'pomer':pomer})\n",
    "    \n",
    "    #количества по женщинам за текущий год\n",
    "    usogo_nar_f=narodzhennyh*koef_usogo_nar_f/100 #всего рожденных женщин\n",
    "    zhivonar_f=koef_zhivonar_f/100*zhivonarodzhennyh #количество живорожденных женщин\n",
    "    mertvonar_f=koef_mertvonar_f/100*mertvonarodzhennyh #количество мертворожденных женщин\n",
    "    pomer_f=koef_pomer_f/100*pomer #количество умерших женщин\n",
    "    \n",
    "    data_f=pd.Series({'usogo_nar_f':usogo_nar_f,'zhivonar_f':zhivonar_f,\\\n",
    "                      'mertvonar_f':mertvonar_f,'pomer_f':pomer_f})\n",
    "    \n",
    "    #количества по мужчинам за текущий год\n",
    "    zhivonar_m=koef_zhivonar_m/100*zhivonarodzhennyh\n",
    "    usogo_nar_m=narodzhennyh*koef_usogo_nar_m/100\n",
    "    mertvonar_m=koef_mertvonar_m/100*mertvonarodzhennyh\n",
    "    pomer_m=koef_pomer_m/100*pomer\n",
    "    \n",
    "    data_m=pd.Series({'usogo_nar_m':usogo_nar_m,'zhivonar_m':zhivonar_m,\\\n",
    "                     'mertvonar_m':mertvonar_m,'pomer_m':pomer_m})\n",
    "    \n",
    "    #серии відтворення населення\n",
    "    vidtvorennya_nas_f=pd.Series(pomer_f*koef_vidtvorennya_nas_f/100*(-1))\n",
    "    vidtvorennya_nas_m=pd.Series(pomer_m*koef_vidtvorennya_nas_m/100*(-1))\n",
    "    \n",
    "    # серии мигрантов\n",
    "    migrant=popTotal*koef_migrant/100\n",
    "    migrant_f=migrant*koef_migrant_f/100\n",
    "    migrant_f_years=pd.Series(koef_mizhnar_saldo_f*migrant_f/100)\n",
    "    migrant_m=migrant*koef_migrant_m/100\n",
    "    migrant_m_years=pd.Series(koef_mizhnar_saldo_m*migrant_m/100)\n",
    "    \n",
    "    # серии женщин следующего года по годам жизни\n",
    "    rest1=f_years[:-1]\n",
    "    rest2=vidtvorennya_nas_f.drop(0).reset_index(drop=True)\n",
    "    rest3=migrant_f_years.drop(0).reset_index(drop=True)\n",
    "    rest1=rest1.astype('float64')\n",
    "    rest4=rest1+rest2+rest3\n",
    "    rest4=rest4[:-1]\n",
    "    rest_first=zhivonar_f+vidtvorennya_nas_f[0]+migrant_f_years[0]\n",
    "    rest_last=pd.Series(f_years.iloc[-1]+f_years.iloc[-2]+\\\n",
    "                vidtvorennya_nas_f.iloc[-1]+\\\n",
    "                migrant_f_years.iloc[-1])\n",
    "    rest=rest4.append(rest_last).reset_index(drop=True)\n",
    "    rest.index=rest.index+1\n",
    "    rest_f=pd.concat([rest, pd.Series(rest_first)])\n",
    "    female_next=rest_f.sort_index()\n",
    "    \n",
    "    rest_series=pd.Series({'rest':rest,'rest1':rest1,\\\n",
    "                           'rest2':rest2,'rest3':rest3,\\\n",
    "                           'rest4':rest4,\\\n",
    "                           'rest_first':rest_first,'rest_last':rest_last})\n",
    "    \n",
    "    # серии мужчин следующего года по годам жизни\n",
    "    mrest1=m_years[:-1]\n",
    "    mrest2=vidtvorennya_nas_m.drop(0).reset_index(drop=True)\n",
    "    mrest3=migrant_m_years.drop(0).reset_index(drop=True)\n",
    "    mrest1=mrest1.astype('float64')\n",
    "    mrest4=mrest1+mrest2+mrest3\n",
    "    mrest4=mrest4[:-1]\n",
    "    mrest_first=zhivonar_m+vidtvorennya_nas_m[0]+migrant_m_years[0]\n",
    "    mrest_last=pd.Series(m_years.iloc[-1]+m_years.iloc[-2]+\\\n",
    "                vidtvorennya_nas_m.iloc[-1]+\\\n",
    "                migrant_m_years.iloc[-1])\n",
    "    mrest=mrest4.append(mrest_last).reset_index(drop=True)\n",
    "    mrest.index=mrest.index+1\n",
    "    rest_m=pd.concat([mrest, pd.Series(mrest_first)])\n",
    "    male_next=rest_m.sort_index()\n",
    "    pop_next=female_next+male_next\n",
    "    pop_next_total=pop_next.sum()\n",
    "    \n",
    "     \n",
    "    \n",
    "    return female_next,male_next,pop_next_total,vidtvorennya_nas_f       \n",
    "   "
   ]
  },
  {
   "cell_type": "code",
   "execution_count": 7,
   "metadata": {},
   "outputs": [],
   "source": [
    "def prognos(year,f_years,m_years,kfert):\n",
    "    z=[]\n",
    "    ye=[]\n",
    "    pop_total=f_years.sum()+m_years.sum()\n",
    "    for i in range(len(kfert)):\n",
    "        fy=model(f_years,m_years,pop_total,kfert[i],0.136060581939936)[0]\n",
    "        my=model(f_years,m_years,pop_total,kfert[i],0.136060581939936)[1]\n",
    "        pt=model(f_years,m_years,pop_total,kfert[i],0.136060581939936)[2]\n",
    "        z.append(model(f_years,m_years,pop_total,kfert[i],0.136060581939936)[2])\n",
    "        f_years=fy\n",
    "        m_years=my\n",
    "        pop_total=pt\n",
    "        ye.append(year+1+i)\n",
    "        \n",
    "    return pd.DataFrame(z,ye)"
   ]
  },
  {
   "cell_type": "code",
   "execution_count": 77,
   "metadata": {},
   "outputs": [
    {
     "data": {
      "text/plain": [
       "0   20434948.95\n",
       "Name: 2117, dtype: float64"
      ]
     },
     "execution_count": 77,
     "metadata": {},
     "output_type": "execute_result"
    }
   ],
   "source": [
    "f=pop2017[' жінки'].reset_index(drop=True)\n",
    "m=pop2017[' чоловіки'].reset_index(drop=True)\n",
    "\n",
    "kfert_good=np.insert(np.repeat(95,40),[0],[46,60,65,70,75,80,85,90])\n",
    "kfert_bad=np.repeat(46,37)\n",
    "\n",
    "prognos(2017,f,m,np.repeat(38,100)).iloc[-1,:]"
   ]
  },
  {
   "cell_type": "code",
   "execution_count": 9,
   "metadata": {},
   "outputs": [],
   "source": [
    "#исторические данные\n",
    "#http://database.ukrcensus.gov.ua/MULT/Dialog/statfile_c_files/pasport.files/pasport/00_uk.htm#0301\n",
    "#http://database.ukrcensus.gov.ua/PXWEB2007/ukr/publ_new1/2018/zb_dy_2017.pdf\n",
    "\n",
    "pomerlyh=pd.Series([754460,706739,698235,664588,663139,662368,632296,594796,583631,574123],\\\n",
    "                   index=list(np.arange(2008,2018)),name='Померлих')\n",
    "pomer_na_1000_nas=pd.Series([16.3,15.3,15.2,14.5,14.5,14.6,14.7,14.9,14.7,14.5],\\\n",
    "                            index=list(np.arange(2008,2018)),name='Померлих на 1000 населення')\n",
    "zhivonar=pd.Series([510589,512525,497689,502595,520705,503657,465882,411781,397037,363987],\\\n",
    "                   index=list(np.arange(2008,2018)),name='Живонароджених')\n",
    "zhivonar_na_1000_nas=pd.Series([11.0,11.1,10.8,11.0,11.4,11.1,10.8,10.7,10.3,9.4],\\\n",
    "                               index=list(np.arange(2008,2018)),name='Живонароджених на 1000 населення')\n",
    "naselennya_vse=pd.Series([46372664,46143714,45962947,45778534,45633637,45553047,45426249,42929298,42760516,42584542,42386403],\\\n",
    "                         index=list(np.arange(2008,2019)),name='Населення')\n",
    "miske_nas=pd.Series([31668757,31587203,31524795,31441649,31380874,31378639,31336623,29673113,29584952,29482313,29370995],\\\n",
    "                    index=list(np.arange(2008,2019)),name='Міське населення')\n",
    "silske_nas=pd.Series([14703907,14556511,14438152,14336885,14252763,14174408,14089626,13256185,13175564,13102229,13015408],\\\n",
    "                     index=list(np.arange(2008,2019)),name='Сільське населення')\n",
    "zhivonar_m=pd.Series([263588,264844,256835,259433,268748,259738,240043,212846,205194,187528],\\\n",
    "                    index=list(np.arange(2008,2018)),name='Живонароджених чоловіків')\n",
    "zhivonar_f=pd.Series([247001,247681,240854,243162,251957,243919,225839,198935,191843,176459],\\\n",
    "                    index=list(np.arange(2008,2018)),name='Живонароджених жінок')\n",
    "mertvonar_all=pd.Series([3416,3351,3300,3158,3230,3166,2820,2437,2244,2136],\\\n",
    "                       index=list(np.arange(2008,2018)),name='Мертвонароджених')\n",
    "mertvonar_m=pd.Series([1801,1821,1719,1649,1734,1683,1502,1322,1159,1090],\\\n",
    "                     index=list(np.arange(2008,2018)),name='Мертвонароджених чоловіків')\n",
    "\n",
    "mertvonar_f=pd.Series([1615,1530,1581,1509,1496,1483,1318,1115,1085,1046],\\\n",
    "                     index=list(np.arange(2008,2018)),name='Мертвонароджених жінок')                    \n",
    "                   \n",
    "\n"
   ]
  },
  {
   "cell_type": "code",
   "execution_count": 10,
   "metadata": {},
   "outputs": [
    {
     "data": {
      "text/html": [
       "<div>\n",
       "<style scoped>\n",
       "    .dataframe tbody tr th:only-of-type {\n",
       "        vertical-align: middle;\n",
       "    }\n",
       "\n",
       "    .dataframe tbody tr th {\n",
       "        vertical-align: top;\n",
       "    }\n",
       "\n",
       "    .dataframe thead th {\n",
       "        text-align: right;\n",
       "    }\n",
       "</style>\n",
       "<table border=\"1\" class=\"dataframe\">\n",
       "  <thead>\n",
       "    <tr style=\"text-align: right;\">\n",
       "      <th></th>\n",
       "      <th>2008</th>\n",
       "      <th>2009</th>\n",
       "      <th>2010</th>\n",
       "      <th>2011</th>\n",
       "      <th>2012</th>\n",
       "      <th>2013</th>\n",
       "      <th>2014</th>\n",
       "      <th>2015</th>\n",
       "      <th>2016</th>\n",
       "      <th>2017</th>\n",
       "      <th>2018</th>\n",
       "    </tr>\n",
       "  </thead>\n",
       "  <tbody>\n",
       "    <tr>\n",
       "      <th>Померлих</th>\n",
       "      <td>754460.00</td>\n",
       "      <td>706739.00</td>\n",
       "      <td>698235.00</td>\n",
       "      <td>664588.00</td>\n",
       "      <td>663139.00</td>\n",
       "      <td>662368.00</td>\n",
       "      <td>632296.00</td>\n",
       "      <td>594796.00</td>\n",
       "      <td>583631.00</td>\n",
       "      <td>574123.00</td>\n",
       "      <td>nan</td>\n",
       "    </tr>\n",
       "    <tr>\n",
       "      <th>Померлих на 1000 населення</th>\n",
       "      <td>16.30</td>\n",
       "      <td>15.30</td>\n",
       "      <td>15.20</td>\n",
       "      <td>14.50</td>\n",
       "      <td>14.50</td>\n",
       "      <td>14.60</td>\n",
       "      <td>14.70</td>\n",
       "      <td>14.90</td>\n",
       "      <td>14.70</td>\n",
       "      <td>14.50</td>\n",
       "      <td>nan</td>\n",
       "    </tr>\n",
       "    <tr>\n",
       "      <th>Живонароджених</th>\n",
       "      <td>510589.00</td>\n",
       "      <td>512525.00</td>\n",
       "      <td>497689.00</td>\n",
       "      <td>502595.00</td>\n",
       "      <td>520705.00</td>\n",
       "      <td>503657.00</td>\n",
       "      <td>465882.00</td>\n",
       "      <td>411781.00</td>\n",
       "      <td>397037.00</td>\n",
       "      <td>363987.00</td>\n",
       "      <td>nan</td>\n",
       "    </tr>\n",
       "    <tr>\n",
       "      <th>Мертвонароджених</th>\n",
       "      <td>3416.00</td>\n",
       "      <td>3351.00</td>\n",
       "      <td>3300.00</td>\n",
       "      <td>3158.00</td>\n",
       "      <td>3230.00</td>\n",
       "      <td>3166.00</td>\n",
       "      <td>2820.00</td>\n",
       "      <td>2437.00</td>\n",
       "      <td>2244.00</td>\n",
       "      <td>2136.00</td>\n",
       "      <td>nan</td>\n",
       "    </tr>\n",
       "    <tr>\n",
       "      <th>Живонароджених жінок</th>\n",
       "      <td>247001.00</td>\n",
       "      <td>247681.00</td>\n",
       "      <td>240854.00</td>\n",
       "      <td>243162.00</td>\n",
       "      <td>251957.00</td>\n",
       "      <td>243919.00</td>\n",
       "      <td>225839.00</td>\n",
       "      <td>198935.00</td>\n",
       "      <td>191843.00</td>\n",
       "      <td>176459.00</td>\n",
       "      <td>nan</td>\n",
       "    </tr>\n",
       "    <tr>\n",
       "      <th>Живонароджених чоловіків</th>\n",
       "      <td>263588.00</td>\n",
       "      <td>264844.00</td>\n",
       "      <td>256835.00</td>\n",
       "      <td>259433.00</td>\n",
       "      <td>268748.00</td>\n",
       "      <td>259738.00</td>\n",
       "      <td>240043.00</td>\n",
       "      <td>212846.00</td>\n",
       "      <td>205194.00</td>\n",
       "      <td>187528.00</td>\n",
       "      <td>nan</td>\n",
       "    </tr>\n",
       "    <tr>\n",
       "      <th>Населення</th>\n",
       "      <td>46372664.00</td>\n",
       "      <td>46143714.00</td>\n",
       "      <td>45962947.00</td>\n",
       "      <td>45778534.00</td>\n",
       "      <td>45633637.00</td>\n",
       "      <td>45553047.00</td>\n",
       "      <td>45426249.00</td>\n",
       "      <td>42929298.00</td>\n",
       "      <td>42760516.00</td>\n",
       "      <td>42584542.00</td>\n",
       "      <td>42386403.00</td>\n",
       "    </tr>\n",
       "  </tbody>\n",
       "</table>\n",
       "</div>"
      ],
      "text/plain": [
       "                                  2008        2009        2010        2011  \\\n",
       "Померлих                     754460.00   706739.00   698235.00   664588.00   \n",
       "Померлих на 1000 населення       16.30       15.30       15.20       14.50   \n",
       "Живонароджених               510589.00   512525.00   497689.00   502595.00   \n",
       "Мертвонароджених               3416.00     3351.00     3300.00     3158.00   \n",
       "Живонароджених жінок         247001.00   247681.00   240854.00   243162.00   \n",
       "Живонароджених чоловіків     263588.00   264844.00   256835.00   259433.00   \n",
       "Населення                  46372664.00 46143714.00 45962947.00 45778534.00   \n",
       "\n",
       "                                  2012        2013        2014        2015  \\\n",
       "Померлих                     663139.00   662368.00   632296.00   594796.00   \n",
       "Померлих на 1000 населення       14.50       14.60       14.70       14.90   \n",
       "Живонароджених               520705.00   503657.00   465882.00   411781.00   \n",
       "Мертвонароджених               3230.00     3166.00     2820.00     2437.00   \n",
       "Живонароджених жінок         251957.00   243919.00   225839.00   198935.00   \n",
       "Живонароджених чоловіків     268748.00   259738.00   240043.00   212846.00   \n",
       "Населення                  45633637.00 45553047.00 45426249.00 42929298.00   \n",
       "\n",
       "                                  2016        2017        2018  \n",
       "Померлих                     583631.00   574123.00         nan  \n",
       "Померлих на 1000 населення       14.70       14.50         nan  \n",
       "Живонароджених               397037.00   363987.00         nan  \n",
       "Мертвонароджених               2244.00     2136.00         nan  \n",
       "Живонароджених жінок         191843.00   176459.00         nan  \n",
       "Живонароджених чоловіків     205194.00   187528.00         nan  \n",
       "Населення                  42760516.00 42584542.00 42386403.00  "
      ]
     },
     "execution_count": 10,
     "metadata": {},
     "output_type": "execute_result"
    }
   ],
   "source": [
    "datadf=pd.concat([pomerlyh,pomer_na_1000_nas,zhivonar,mertvonar_all,zhivonar_f,zhivonar_m,\\\n",
    "                 naselennya_vse],axis=1).T\n",
    "datadf"
   ]
  },
  {
   "cell_type": "code",
   "execution_count": 47,
   "metadata": {},
   "outputs": [],
   "source": [
    "range61=np.arange(61,81)\n",
    "range61_full=pop.loc[pop['вік'].isin(range61)].groupby('рік').sum()\n",
    "naselennya_vid_61=range61_full['Обидві статі']"
   ]
  },
  {
   "cell_type": "code",
   "execution_count": 49,
   "metadata": {},
   "outputs": [
    {
     "data": {
      "text/plain": [
       "2008     nan\n",
       "2009     nan\n",
       "2010     nan\n",
       "2011     nan\n",
       "2012   19.79\n",
       "2013   20.01\n",
       "2014   20.25\n",
       "2015   20.41\n",
       "2016   20.74\n",
       "2017   21.05\n",
       "2018   21.46\n",
       "dtype: float64"
      ]
     },
     "execution_count": 49,
     "metadata": {},
     "output_type": "execute_result"
    }
   ],
   "source": [
    "chastka_61=naselennya_vid_61/naselennya_vse*100"
   ]
  },
  {
   "cell_type": "code",
   "execution_count": 57,
   "metadata": {},
   "outputs": [],
   "source": [
    "range_m18_60=np.arange(18,61)\n",
    "range_f50_60=np.arange(50,61)\n",
    "range_m18_60_full=pop.loc[pop['вік'].isin(range_m18_60)].groupby('рік').sum()\n",
    "range_f50_60_full=pop.loc[pop['вік'].isin(range_f50_60)].groupby('рік').sum()\n",
    "female_male=range_m18_60_full[' чоловіки']+range_f50_60_full[' жінки']"
   ]
  },
  {
   "cell_type": "code",
   "execution_count": 59,
   "metadata": {},
   "outputs": [
    {
     "data": {
      "text/plain": [
       "2008     nan\n",
       "2009     nan\n",
       "2010     nan\n",
       "2011     nan\n",
       "2012   38.82\n",
       "2013   38.77\n",
       "2014   38.67\n",
       "2015   38.57\n",
       "2016   38.34\n",
       "2017   38.14\n",
       "2018   37.83\n",
       "dtype: float64"
      ]
     },
     "execution_count": 59,
     "metadata": {},
     "output_type": "execute_result"
    }
   ],
   "source": [
    "chastka_fm=female_male/naselennya_vse*100\n",
    "chastka_fm"
   ]
  },
  {
   "cell_type": "code",
   "execution_count": 64,
   "metadata": {},
   "outputs": [
    {
     "data": {
      "text/plain": [
       "рік\n",
       "2012    7971638\n",
       "2013    7990391\n",
       "2014    8009866\n",
       "2015    7614704\n",
       "2016    7614006\n",
       "2017    7615606\n",
       "2018    7609297\n",
       "Name: Обидві статі, dtype: int64"
      ]
     },
     "execution_count": 64,
     "metadata": {},
     "output_type": "execute_result"
    }
   ],
   "source": [
    "range_ditei=np.arange(0,18)\n",
    "ditei=pop.loc[pop['вік'].isin(range_ditei)].groupby('рік').sum()\n",
    "ditei=ditei['Обидві статі']\n",
    "ditei"
   ]
  },
  {
   "cell_type": "code",
   "execution_count": 65,
   "metadata": {},
   "outputs": [
    {
     "data": {
      "text/plain": [
       "2008     nan\n",
       "2009     nan\n",
       "2010     nan\n",
       "2011     nan\n",
       "2012   17.47\n",
       "2013   17.54\n",
       "2014   17.63\n",
       "2015   17.74\n",
       "2016   17.81\n",
       "2017   17.88\n",
       "2018   17.95\n",
       "dtype: float64"
      ]
     },
     "execution_count": 65,
     "metadata": {},
     "output_type": "execute_result"
    }
   ],
   "source": [
    "chastka_ditei=ditei/naselennya_vse*100\n",
    "chastka_ditei"
   ]
  },
  {
   "cell_type": "code",
   "execution_count": 69,
   "metadata": {},
   "outputs": [
    {
     "data": {
      "text/plain": [
       "рік\n",
       "2012    10736402\n",
       "2013    10606010\n",
       "2014    10471684\n",
       "2015     9826098\n",
       "2016     9714985\n",
       "2017     9595421\n",
       "2018     9474888\n",
       "Name:  жінки, dtype: int64"
      ]
     },
     "execution_count": 69,
     "metadata": {},
     "output_type": "execute_result"
    }
   ],
   "source": [
    "range_fert=np.arange(18,50)\n",
    "fert=pop.loc[pop['вік'].isin(range_fert)].groupby('рік').sum()\n",
    "fert=fert[' жінки']\n",
    "fert"
   ]
  },
  {
   "cell_type": "code",
   "execution_count": 71,
   "metadata": {},
   "outputs": [
    {
     "data": {
      "text/plain": [
       "2008     nan\n",
       "2009     nan\n",
       "2010     nan\n",
       "2011     nan\n",
       "2012   23.53\n",
       "2013   23.28\n",
       "2014   23.05\n",
       "2015   22.89\n",
       "2016   22.72\n",
       "2017   22.53\n",
       "2018   22.35\n",
       "dtype: float64"
      ]
     },
     "execution_count": 71,
     "metadata": {},
     "output_type": "execute_result"
    }
   ],
   "source": [
    "chastka_fert=fert/naselennya_vse*100\n",
    "chastka_fert"
   ]
  },
  {
   "cell_type": "code",
   "execution_count": 72,
   "metadata": {
    "scrolled": false
   },
   "outputs": [
    {
     "data": {
      "text/plain": [
       "рік\n",
       "2012   0.74\n",
       "2013   0.75\n",
       "2014   0.76\n",
       "2015   0.77\n",
       "2016   0.78\n",
       "2017   0.79\n",
       "2018   0.80\n",
       "dtype: float64"
      ]
     },
     "execution_count": 72,
     "metadata": {},
     "output_type": "execute_result"
    }
   ],
   "source": [
    "ditei_na_zhinku=ditei/fert"
   ]
  },
  {
   "cell_type": "code",
   "execution_count": 76,
   "metadata": {},
   "outputs": [],
   "source": [
    "narodylos_na_1000_zhinok=zhivonar/fert*1000"
   ]
  },
  {
   "cell_type": "code",
   "execution_count": 80,
   "metadata": {},
   "outputs": [],
   "source": [
    "world_pop=pd.read_csv(\"D:/Users/o.lukasevych/Documents/Python_Scripts/Ukr_budget/Shiny_app/population/data/WPP2017_TotalPopulationBySex.csv\")"
   ]
  },
  {
   "cell_type": "code",
   "execution_count": 106,
   "metadata": {},
   "outputs": [],
   "source": [
    "subset1=world_pop.loc[(world_pop.Location=='World')&(world_pop.Variant=='Medium')]\n",
    "subset2=subset1[['Time','PopTotal']]\n",
    "world_pop_prognos=subset2.set_index('Time').iloc[:,0]"
   ]
  },
  {
   "cell_type": "code",
   "execution_count": 129,
   "metadata": {},
   "outputs": [],
   "source": [
    "world_pop_slice=world_pop_prognos.loc[2011:2018]"
   ]
  },
  {
   "cell_type": "code",
   "execution_count": 130,
   "metadata": {},
   "outputs": [],
   "source": [
    "world_pop_change=world_pop_slice.pct_change()*100"
   ]
  },
  {
   "cell_type": "code",
   "execution_count": 120,
   "metadata": {},
   "outputs": [],
   "source": [
    "gdp=pd.read_excel('D:/Users/o.lukasevych/Documents/Python_Scripts/Ukr_budget/excel/gdp.xlsx')"
   ]
  },
  {
   "cell_type": "code",
   "execution_count": 126,
   "metadata": {},
   "outputs": [],
   "source": [
    "gdp_world=gdp.iloc[1]['2012':'2017']\n",
    "gdp_ukr=gdp.iloc[0]['2012':'2017']"
   ]
  },
  {
   "cell_type": "code",
   "execution_count": 178,
   "metadata": {
    "scrolled": true
   },
   "outputs": [
    {
     "data": {
      "text/plain": [
       "2012   75061410005883.55\n",
       "2013   77218621016248.28\n",
       "2014   79319858280899.09\n",
       "2015   75037186502549.75\n",
       "2016   76146112644152.70\n",
       "2017   80934771028340.25\n",
       "Name: 257, dtype: object"
      ]
     },
     "execution_count": 178,
     "metadata": {},
     "output_type": "execute_result"
    }
   ],
   "source": [
    "gdp_world"
   ]
  },
  {
   "cell_type": "code",
   "execution_count": 157,
   "metadata": {},
   "outputs": [
    {
     "data": {
      "text/plain": [
       "Int64Index([2012, 2013, 2014, 2015, 2016, 2017], dtype='int64')"
      ]
     },
     "execution_count": 157,
     "metadata": {},
     "output_type": "execute_result"
    }
   ],
   "source": [
    "index1=pd.date_range(start='2012',end='2018',freq='Y').year\n",
    "index1"
   ]
  },
  {
   "cell_type": "code",
   "execution_count": 177,
   "metadata": {},
   "outputs": [
    {
     "data": {
      "text/plain": [
       "2012     nan\n",
       "2013    2.87\n",
       "2014    2.72\n",
       "2015   -5.40\n",
       "2016    1.48\n",
       "2017    6.29\n",
       "Name: 257, dtype: float64"
      ]
     },
     "execution_count": 177,
     "metadata": {},
     "output_type": "execute_result"
    }
   ],
   "source": [
    "gdp_world_change=gdp_world.pct_change()*100\n",
    "gdp_world_change"
   ]
  },
  {
   "cell_type": "code",
   "execution_count": 180,
   "metadata": {},
   "outputs": [],
   "source": [
    "gdpukr_na_osobu=gdp_ukr/naselennya_vse"
   ]
  },
  {
   "cell_type": "code",
   "execution_count": 184,
   "metadata": {},
   "outputs": [
    {
     "data": {
      "text/plain": [
       "Index(['2012', '2013', '2014', '2015', '2016', '2017'], dtype='object')"
      ]
     },
     "execution_count": 184,
     "metadata": {},
     "output_type": "execute_result"
    }
   ],
   "source": [
    "gdp_world.index"
   ]
  },
  {
   "cell_type": "code",
   "execution_count": 188,
   "metadata": {},
   "outputs": [
    {
     "data": {
      "text/plain": [
       "2011    NaN\n",
       "2012    NaN\n",
       "2013    NaN\n",
       "2014    NaN\n",
       "2015    NaN\n",
       "2016    NaN\n",
       "2017    NaN\n",
       "2018    NaN\n",
       "Name: 257, dtype: object"
      ]
     },
     "execution_count": 188,
     "metadata": {},
     "output_type": "execute_result"
    }
   ],
   "source": [
    "gdp_world.reindex_like(world_pop_slice)"
   ]
  }
 ],
 "metadata": {
  "kernelspec": {
   "display_name": "Python 3",
   "language": "python",
   "name": "python3"
  },
  "language_info": {
   "codemirror_mode": {
    "name": "ipython",
    "version": 3
   },
   "file_extension": ".py",
   "mimetype": "text/x-python",
   "name": "python",
   "nbconvert_exporter": "python",
   "pygments_lexer": "ipython3",
   "version": "3.7.0"
  },
  "varInspector": {
   "cols": {
    "lenName": 16,
    "lenType": 16,
    "lenVar": 40
   },
   "kernels_config": {
    "python": {
     "delete_cmd_postfix": "",
     "delete_cmd_prefix": "del ",
     "library": "var_list.py",
     "varRefreshCmd": "print(var_dic_list())"
    },
    "r": {
     "delete_cmd_postfix": ") ",
     "delete_cmd_prefix": "rm(",
     "library": "var_list.r",
     "varRefreshCmd": "cat(var_dic_list()) "
    }
   },
   "types_to_exclude": [
    "module",
    "function",
    "builtin_function_or_method",
    "instance",
    "_Feature"
   ],
   "window_display": false
  }
 },
 "nbformat": 4,
 "nbformat_minor": 2
}
