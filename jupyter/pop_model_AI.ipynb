{
 "cells": [
  {
   "cell_type": "code",
   "execution_count": 1,
   "metadata": {},
   "outputs": [],
   "source": [
    "import pandas as pd\n",
    "import numpy as np"
   ]
  },
  {
   "cell_type": "markdown",
   "metadata": {},
   "source": [
    "#### нужно получить распредение населения по возрастным группам\n",
    "#### 0-17, 18-60, 61 и старше в разрезе мужчин и женщин. Необходимо прогнозное\n",
    "#### количество женщин детородного возраста, чтобы по регулируемому показателю \n",
    "#### фертильности, получить прогноз всего населения Украины.\n",
    "#### Далее, зная фертильность и количество детей, можно спрогнозировать расходы\n",
    "#### которые должно взять на себя государство, чтобы увеличилась рождаемость."
   ]
  },
  {
   "cell_type": "code",
   "execution_count": 2,
   "metadata": {},
   "outputs": [],
   "source": [
    "df=pd.read_csv('data/pop_est/Population-EstimatesData.csv')\n",
    "# world bank data собраны самые разные показатели "
   ]
  },
  {
   "cell_type": "code",
   "execution_count": 3,
   "metadata": {},
   "outputs": [],
   "source": [
    "df=df[df['Country Name']=='Ukraine']"
   ]
  },
  {
   "cell_type": "code",
   "execution_count": 4,
   "metadata": {},
   "outputs": [],
   "source": [
    "df1=pd.read_csv('https://population.un.org/wpp/Download/Files/1_Indicators%20(Standard)/CSV_FILES/WPP2019_PopulationBySingleAgeSex.csv',\\\n",
    "               encoding = \"ISO-8859-1\")"
   ]
  },
  {
   "cell_type": "code",
   "execution_count": 5,
   "metadata": {},
   "outputs": [],
   "source": [
    "df2=df1[df1.Location=='Ukraine'].loc[:,('Time','AgeGrp','PopMale','PopFemale','PopTotal')]"
   ]
  },
  {
   "cell_type": "code",
   "execution_count": 6,
   "metadata": {},
   "outputs": [],
   "source": [
    "df2=df2.set_index(['Time','AgeGrp'])"
   ]
  },
  {
   "cell_type": "code",
   "execution_count": 7,
   "metadata": {},
   "outputs": [],
   "source": [
    "df2=df2.loc[2012:2050]"
   ]
  },
  {
   "cell_type": "code",
   "execution_count": 8,
   "metadata": {},
   "outputs": [],
   "source": [
    "df2=df2.reset_index()"
   ]
  },
  {
   "cell_type": "code",
   "execution_count": 9,
   "metadata": {},
   "outputs": [
    {
     "data": {
      "text/html": [
       "<div>\n",
       "<style scoped>\n",
       "    .dataframe tbody tr th:only-of-type {\n",
       "        vertical-align: middle;\n",
       "    }\n",
       "\n",
       "    .dataframe tbody tr th {\n",
       "        vertical-align: top;\n",
       "    }\n",
       "\n",
       "    .dataframe thead tr th {\n",
       "        text-align: left;\n",
       "    }\n",
       "\n",
       "    .dataframe thead tr:last-of-type th {\n",
       "        text-align: right;\n",
       "    }\n",
       "</style>\n",
       "<table border=\"1\" class=\"dataframe\">\n",
       "  <thead>\n",
       "    <tr>\n",
       "      <th></th>\n",
       "      <th colspan=\"10\" halign=\"left\">PopMale</th>\n",
       "      <th>...</th>\n",
       "      <th colspan=\"10\" halign=\"left\">PopTotal</th>\n",
       "    </tr>\n",
       "    <tr>\n",
       "      <th>Time</th>\n",
       "      <th>2012</th>\n",
       "      <th>2013</th>\n",
       "      <th>2014</th>\n",
       "      <th>2015</th>\n",
       "      <th>2016</th>\n",
       "      <th>2017</th>\n",
       "      <th>2018</th>\n",
       "      <th>2019</th>\n",
       "      <th>2020</th>\n",
       "      <th>2021</th>\n",
       "      <th>...</th>\n",
       "      <th>2041</th>\n",
       "      <th>2042</th>\n",
       "      <th>2043</th>\n",
       "      <th>2044</th>\n",
       "      <th>2045</th>\n",
       "      <th>2046</th>\n",
       "      <th>2047</th>\n",
       "      <th>2048</th>\n",
       "      <th>2049</th>\n",
       "      <th>2050</th>\n",
       "    </tr>\n",
       "    <tr>\n",
       "      <th>AgeGrp</th>\n",
       "      <th></th>\n",
       "      <th></th>\n",
       "      <th></th>\n",
       "      <th></th>\n",
       "      <th></th>\n",
       "      <th></th>\n",
       "      <th></th>\n",
       "      <th></th>\n",
       "      <th></th>\n",
       "      <th></th>\n",
       "      <th></th>\n",
       "      <th></th>\n",
       "      <th></th>\n",
       "      <th></th>\n",
       "      <th></th>\n",
       "      <th></th>\n",
       "      <th></th>\n",
       "      <th></th>\n",
       "      <th></th>\n",
       "      <th></th>\n",
       "      <th></th>\n",
       "    </tr>\n",
       "  </thead>\n",
       "  <tbody>\n",
       "    <tr>\n",
       "      <th>0</th>\n",
       "      <td>270.947</td>\n",
       "      <td>258.982</td>\n",
       "      <td>245.482</td>\n",
       "      <td>232.817</td>\n",
       "      <td>221.681</td>\n",
       "      <td>211.341</td>\n",
       "      <td>202.373</td>\n",
       "      <td>195.261</td>\n",
       "      <td>190.252</td>\n",
       "      <td>187.936</td>\n",
       "      <td>...</td>\n",
       "      <td>338.436</td>\n",
       "      <td>337.627</td>\n",
       "      <td>336.453</td>\n",
       "      <td>334.845</td>\n",
       "      <td>332.756</td>\n",
       "      <td>330.152</td>\n",
       "      <td>327.108</td>\n",
       "      <td>323.674</td>\n",
       "      <td>319.914</td>\n",
       "      <td>315.891</td>\n",
       "    </tr>\n",
       "    <tr>\n",
       "      <th>1</th>\n",
       "      <td>263.634</td>\n",
       "      <td>261.062</td>\n",
       "      <td>256.230</td>\n",
       "      <td>249.873</td>\n",
       "      <td>235.963</td>\n",
       "      <td>233.032</td>\n",
       "      <td>223.192</td>\n",
       "      <td>213.927</td>\n",
       "      <td>206.072</td>\n",
       "      <td>192.432</td>\n",
       "      <td>...</td>\n",
       "      <td>338.950</td>\n",
       "      <td>338.637</td>\n",
       "      <td>337.988</td>\n",
       "      <td>336.907</td>\n",
       "      <td>335.352</td>\n",
       "      <td>332.898</td>\n",
       "      <td>330.756</td>\n",
       "      <td>327.799</td>\n",
       "      <td>324.453</td>\n",
       "      <td>320.763</td>\n",
       "    </tr>\n",
       "    <tr>\n",
       "      <th>2</th>\n",
       "      <td>272.864</td>\n",
       "      <td>260.114</td>\n",
       "      <td>261.961</td>\n",
       "      <td>260.715</td>\n",
       "      <td>250.698</td>\n",
       "      <td>238.978</td>\n",
       "      <td>239.107</td>\n",
       "      <td>229.027</td>\n",
       "      <td>219.664</td>\n",
       "      <td>206.625</td>\n",
       "      <td>...</td>\n",
       "      <td>338.819</td>\n",
       "      <td>338.954</td>\n",
       "      <td>338.834</td>\n",
       "      <td>338.228</td>\n",
       "      <td>337.172</td>\n",
       "      <td>335.333</td>\n",
       "      <td>333.057</td>\n",
       "      <td>331.130</td>\n",
       "      <td>328.229</td>\n",
       "      <td>324.922</td>\n",
       "    </tr>\n",
       "    <tr>\n",
       "      <th>3</th>\n",
       "      <td>258.370</td>\n",
       "      <td>269.943</td>\n",
       "      <td>263.378</td>\n",
       "      <td>266.130</td>\n",
       "      <td>260.084</td>\n",
       "      <td>251.381</td>\n",
       "      <td>241.911</td>\n",
       "      <td>240.814</td>\n",
       "      <td>231.100</td>\n",
       "      <td>219.200</td>\n",
       "      <td>...</td>\n",
       "      <td>338.346</td>\n",
       "      <td>338.783</td>\n",
       "      <td>338.956</td>\n",
       "      <td>338.915</td>\n",
       "      <td>338.314</td>\n",
       "      <td>337.053</td>\n",
       "      <td>335.332</td>\n",
       "      <td>333.234</td>\n",
       "      <td>331.303</td>\n",
       "      <td>328.417</td>\n",
       "    </tr>\n",
       "    <tr>\n",
       "      <th>4</th>\n",
       "      <td>244.789</td>\n",
       "      <td>258.227</td>\n",
       "      <td>266.965</td>\n",
       "      <td>266.907</td>\n",
       "      <td>264.767</td>\n",
       "      <td>259.305</td>\n",
       "      <td>251.979</td>\n",
       "      <td>244.840</td>\n",
       "      <td>240.452</td>\n",
       "      <td>230.129</td>\n",
       "      <td>...</td>\n",
       "      <td>337.643</td>\n",
       "      <td>338.286</td>\n",
       "      <td>338.745</td>\n",
       "      <td>338.961</td>\n",
       "      <td>338.879</td>\n",
       "      <td>338.145</td>\n",
       "      <td>336.951</td>\n",
       "      <td>335.347</td>\n",
       "      <td>333.422</td>\n",
       "      <td>331.297</td>\n",
       "    </tr>\n",
       "  </tbody>\n",
       "</table>\n",
       "<p>5 rows × 117 columns</p>\n",
       "</div>"
      ],
      "text/plain": [
       "        PopMale                                                        \\\n",
       "Time       2012     2013     2014     2015     2016     2017     2018   \n",
       "AgeGrp                                                                  \n",
       "0       270.947  258.982  245.482  232.817  221.681  211.341  202.373   \n",
       "1       263.634  261.062  256.230  249.873  235.963  233.032  223.192   \n",
       "2       272.864  260.114  261.961  260.715  250.698  238.978  239.107   \n",
       "3       258.370  269.943  263.378  266.130  260.084  251.381  241.911   \n",
       "4       244.789  258.227  266.965  266.907  264.767  259.305  251.979   \n",
       "\n",
       "                                    ...    PopTotal                    \\\n",
       "Time       2019     2020     2021   ...        2041     2042     2043   \n",
       "AgeGrp                              ...                                 \n",
       "0       195.261  190.252  187.936   ...     338.436  337.627  336.453   \n",
       "1       213.927  206.072  192.432   ...     338.950  338.637  337.988   \n",
       "2       229.027  219.664  206.625   ...     338.819  338.954  338.834   \n",
       "3       240.814  231.100  219.200   ...     338.346  338.783  338.956   \n",
       "4       244.840  240.452  230.129   ...     337.643  338.286  338.745   \n",
       "\n",
       "                                                                       \n",
       "Time       2044     2045     2046     2047     2048     2049     2050  \n",
       "AgeGrp                                                                 \n",
       "0       334.845  332.756  330.152  327.108  323.674  319.914  315.891  \n",
       "1       336.907  335.352  332.898  330.756  327.799  324.453  320.763  \n",
       "2       338.228  337.172  335.333  333.057  331.130  328.229  324.922  \n",
       "3       338.915  338.314  337.053  335.332  333.234  331.303  328.417  \n",
       "4       338.961  338.879  338.145  336.951  335.347  333.422  331.297  \n",
       "\n",
       "[5 rows x 117 columns]"
      ]
     },
     "execution_count": 9,
     "metadata": {},
     "output_type": "execute_result"
    }
   ],
   "source": [
    "df2=df2.pivot(index ='AgeGrp', columns ='Time', values =['PopMale','PopFemale','PopTotal'])\n",
    "df2.head()"
   ]
  },
  {
   "cell_type": "code",
   "execution_count": 10,
   "metadata": {},
   "outputs": [
    {
     "data": {
      "text/plain": [
       "[[0, 18), [0, 18), [0, 18), [0, 18), [0, 18), ..., [60, 100), [60, 100), [60, 100), [60, 100), NaN]\n",
       "Length: 101\n",
       "Categories (3, interval[int64]): [[0, 18) < [18, 60) < [60, 100)]"
      ]
     },
     "execution_count": 10,
     "metadata": {},
     "output_type": "execute_result"
    }
   ],
   "source": [
    "#In [2]: bins = pd.cut(df['Value'], [0, 100, 250, 1500])\n",
    "\n",
    "#In [3]: df.groupby(bins)['Value'].agg(['count', 'sum'])\n",
    "\n",
    "bins = pd.cut(np.arange(101), [0, 18, 60,100],right=False)\n",
    "bins\n"
   ]
  },
  {
   "cell_type": "code",
   "execution_count": 11,
   "metadata": {},
   "outputs": [
    {
     "data": {
      "text/html": [
       "<div>\n",
       "<style scoped>\n",
       "    .dataframe tbody tr th:only-of-type {\n",
       "        vertical-align: middle;\n",
       "    }\n",
       "\n",
       "    .dataframe tbody tr th {\n",
       "        vertical-align: top;\n",
       "    }\n",
       "\n",
       "    .dataframe thead th {\n",
       "        text-align: right;\n",
       "    }\n",
       "</style>\n",
       "<table border=\"1\" class=\"dataframe\">\n",
       "  <thead>\n",
       "    <tr style=\"text-align: right;\">\n",
       "      <th>Time</th>\n",
       "      <th>2012</th>\n",
       "      <th>2013</th>\n",
       "      <th>2014</th>\n",
       "      <th>2015</th>\n",
       "      <th>2016</th>\n",
       "      <th>2017</th>\n",
       "      <th>2018</th>\n",
       "      <th>2019</th>\n",
       "      <th>2020</th>\n",
       "      <th>2021</th>\n",
       "      <th>...</th>\n",
       "      <th>2041</th>\n",
       "      <th>2042</th>\n",
       "      <th>2043</th>\n",
       "      <th>2044</th>\n",
       "      <th>2045</th>\n",
       "      <th>2046</th>\n",
       "      <th>2047</th>\n",
       "      <th>2048</th>\n",
       "      <th>2049</th>\n",
       "      <th>2050</th>\n",
       "    </tr>\n",
       "  </thead>\n",
       "  <tbody>\n",
       "    <tr>\n",
       "      <th>[0, 18)</th>\n",
       "      <td>8012.695</td>\n",
       "      <td>8014.474</td>\n",
       "      <td>8039.604</td>\n",
       "      <td>8088.774</td>\n",
       "      <td>8099.479</td>\n",
       "      <td>8123.736</td>\n",
       "      <td>8152.382</td>\n",
       "      <td>8177.807</td>\n",
       "      <td>8199.597</td>\n",
       "      <td>8182.842</td>\n",
       "      <td>...</td>\n",
       "      <td>6116.829</td>\n",
       "      <td>6094.826</td>\n",
       "      <td>6078.382</td>\n",
       "      <td>6066.215</td>\n",
       "      <td>6056.908</td>\n",
       "      <td>6047.015</td>\n",
       "      <td>6037.455</td>\n",
       "      <td>6026.544</td>\n",
       "      <td>6013.142</td>\n",
       "      <td>5996.074</td>\n",
       "    </tr>\n",
       "    <tr>\n",
       "      <th>[18, 60)</th>\n",
       "      <td>27714.482</td>\n",
       "      <td>27453.961</td>\n",
       "      <td>27171.421</td>\n",
       "      <td>26871.393</td>\n",
       "      <td>26545.754</td>\n",
       "      <td>26210.724</td>\n",
       "      <td>25872.575</td>\n",
       "      <td>25533.985</td>\n",
       "      <td>25194.023</td>\n",
       "      <td>24836.872</td>\n",
       "      <td>...</td>\n",
       "      <td>20441.078</td>\n",
       "      <td>20087.809</td>\n",
       "      <td>19730.152</td>\n",
       "      <td>19369.081</td>\n",
       "      <td>19006.066</td>\n",
       "      <td>18620.956</td>\n",
       "      <td>18241.258</td>\n",
       "      <td>17878.492</td>\n",
       "      <td>17547.815</td>\n",
       "      <td>17257.967</td>\n",
       "    </tr>\n",
       "    <tr>\n",
       "      <th>[60, 100)</th>\n",
       "      <td>9724.552</td>\n",
       "      <td>9816.382</td>\n",
       "      <td>9898.289</td>\n",
       "      <td>9959.250</td>\n",
       "      <td>10066.301</td>\n",
       "      <td>10151.181</td>\n",
       "      <td>10219.239</td>\n",
       "      <td>10279.949</td>\n",
       "      <td>10338.223</td>\n",
       "      <td>10445.071</td>\n",
       "      <td>...</td>\n",
       "      <td>11156.857</td>\n",
       "      <td>11252.499</td>\n",
       "      <td>11347.941</td>\n",
       "      <td>11443.117</td>\n",
       "      <td>11537.648</td>\n",
       "      <td>11654.997</td>\n",
       "      <td>11766.694</td>\n",
       "      <td>11862.751</td>\n",
       "      <td>11929.036</td>\n",
       "      <td>11957.878</td>\n",
       "    </tr>\n",
       "  </tbody>\n",
       "</table>\n",
       "<p>3 rows × 39 columns</p>\n",
       "</div>"
      ],
      "text/plain": [
       "Time            2012       2013       2014       2015       2016       2017  \\\n",
       "[0, 18)     8012.695   8014.474   8039.604   8088.774   8099.479   8123.736   \n",
       "[18, 60)   27714.482  27453.961  27171.421  26871.393  26545.754  26210.724   \n",
       "[60, 100)   9724.552   9816.382   9898.289   9959.250  10066.301  10151.181   \n",
       "\n",
       "Time            2018       2019       2020       2021    ...           2041  \\\n",
       "[0, 18)     8152.382   8177.807   8199.597   8182.842    ...       6116.829   \n",
       "[18, 60)   25872.575  25533.985  25194.023  24836.872    ...      20441.078   \n",
       "[60, 100)  10219.239  10279.949  10338.223  10445.071    ...      11156.857   \n",
       "\n",
       "Time            2042       2043       2044       2045       2046       2047  \\\n",
       "[0, 18)     6094.826   6078.382   6066.215   6056.908   6047.015   6037.455   \n",
       "[18, 60)   20087.809  19730.152  19369.081  19006.066  18620.956  18241.258   \n",
       "[60, 100)  11252.499  11347.941  11443.117  11537.648  11654.997  11766.694   \n",
       "\n",
       "Time            2048       2049       2050  \n",
       "[0, 18)     6026.544   6013.142   5996.074  \n",
       "[18, 60)   17878.492  17547.815  17257.967  \n",
       "[60, 100)  11862.751  11929.036  11957.878  \n",
       "\n",
       "[3 rows x 39 columns]"
      ]
     },
     "execution_count": 11,
     "metadata": {},
     "output_type": "execute_result"
    }
   ],
   "source": [
    "PopTotal=df2.reset_index()['PopTotal'].groupby(bins).agg('sum')\n",
    "PopTotal"
   ]
  },
  {
   "cell_type": "code",
   "execution_count": 12,
   "metadata": {},
   "outputs": [
    {
     "data": {
      "text/html": [
       "<div>\n",
       "<style scoped>\n",
       "    .dataframe tbody tr th:only-of-type {\n",
       "        vertical-align: middle;\n",
       "    }\n",
       "\n",
       "    .dataframe tbody tr th {\n",
       "        vertical-align: top;\n",
       "    }\n",
       "\n",
       "    .dataframe thead th {\n",
       "        text-align: right;\n",
       "    }\n",
       "</style>\n",
       "<table border=\"1\" class=\"dataframe\">\n",
       "  <thead>\n",
       "    <tr style=\"text-align: right;\">\n",
       "      <th>Time</th>\n",
       "      <th>2012</th>\n",
       "      <th>2013</th>\n",
       "      <th>2014</th>\n",
       "      <th>2015</th>\n",
       "      <th>2016</th>\n",
       "      <th>2017</th>\n",
       "      <th>2018</th>\n",
       "      <th>2019</th>\n",
       "      <th>2020</th>\n",
       "      <th>2021</th>\n",
       "      <th>...</th>\n",
       "      <th>2041</th>\n",
       "      <th>2042</th>\n",
       "      <th>2043</th>\n",
       "      <th>2044</th>\n",
       "      <th>2045</th>\n",
       "      <th>2046</th>\n",
       "      <th>2047</th>\n",
       "      <th>2048</th>\n",
       "      <th>2049</th>\n",
       "      <th>2050</th>\n",
       "    </tr>\n",
       "  </thead>\n",
       "  <tbody>\n",
       "    <tr>\n",
       "      <th>[0, 18)</th>\n",
       "      <td>3896.560</td>\n",
       "      <td>3894.857</td>\n",
       "      <td>3904.410</td>\n",
       "      <td>3926.206</td>\n",
       "      <td>3929.428</td>\n",
       "      <td>3940.170</td>\n",
       "      <td>3953.915</td>\n",
       "      <td>3966.494</td>\n",
       "      <td>3977.491</td>\n",
       "      <td>3970.460</td>\n",
       "      <td>...</td>\n",
       "      <td>2970.327</td>\n",
       "      <td>2959.738</td>\n",
       "      <td>2951.664</td>\n",
       "      <td>2945.507</td>\n",
       "      <td>2940.562</td>\n",
       "      <td>2935.910</td>\n",
       "      <td>2931.314</td>\n",
       "      <td>2925.972</td>\n",
       "      <td>2919.308</td>\n",
       "      <td>2910.682</td>\n",
       "    </tr>\n",
       "    <tr>\n",
       "      <th>[18, 50)</th>\n",
       "      <td>10662.049</td>\n",
       "      <td>10522.207</td>\n",
       "      <td>10380.995</td>\n",
       "      <td>10242.756</td>\n",
       "      <td>10115.861</td>\n",
       "      <td>9994.512</td>\n",
       "      <td>9876.352</td>\n",
       "      <td>9754.991</td>\n",
       "      <td>9624.826</td>\n",
       "      <td>9491.016</td>\n",
       "      <td>...</td>\n",
       "      <td>6904.072</td>\n",
       "      <td>6796.216</td>\n",
       "      <td>6703.678</td>\n",
       "      <td>6622.794</td>\n",
       "      <td>6550.826</td>\n",
       "      <td>6487.352</td>\n",
       "      <td>6434.050</td>\n",
       "      <td>6389.765</td>\n",
       "      <td>6352.727</td>\n",
       "      <td>6320.891</td>\n",
       "    </tr>\n",
       "    <tr>\n",
       "      <th>[50, 60)</th>\n",
       "      <td>3658.046</td>\n",
       "      <td>3633.722</td>\n",
       "      <td>3597.186</td>\n",
       "      <td>3550.490</td>\n",
       "      <td>3493.772</td>\n",
       "      <td>3428.237</td>\n",
       "      <td>3358.354</td>\n",
       "      <td>3290.137</td>\n",
       "      <td>3227.700</td>\n",
       "      <td>3166.777</td>\n",
       "      <td>...</td>\n",
       "      <td>3326.126</td>\n",
       "      <td>3253.623</td>\n",
       "      <td>3162.772</td>\n",
       "      <td>3056.924</td>\n",
       "      <td>2939.116</td>\n",
       "      <td>2806.697</td>\n",
       "      <td>2665.016</td>\n",
       "      <td>2521.266</td>\n",
       "      <td>2385.340</td>\n",
       "      <td>2264.019</td>\n",
       "    </tr>\n",
       "    <tr>\n",
       "      <th>[60, 100)</th>\n",
       "      <td>6247.944</td>\n",
       "      <td>6310.568</td>\n",
       "      <td>6369.740</td>\n",
       "      <td>6418.285</td>\n",
       "      <td>6477.521</td>\n",
       "      <td>6525.149</td>\n",
       "      <td>6564.443</td>\n",
       "      <td>6601.351</td>\n",
       "      <td>6638.928</td>\n",
       "      <td>6692.978</td>\n",
       "      <td>...</td>\n",
       "      <td>6949.199</td>\n",
       "      <td>6981.746</td>\n",
       "      <td>7014.910</td>\n",
       "      <td>7049.437</td>\n",
       "      <td>7085.615</td>\n",
       "      <td>7127.386</td>\n",
       "      <td>7167.992</td>\n",
       "      <td>7202.250</td>\n",
       "      <td>7222.738</td>\n",
       "      <td>7225.411</td>\n",
       "    </tr>\n",
       "  </tbody>\n",
       "</table>\n",
       "<p>4 rows × 39 columns</p>\n",
       "</div>"
      ],
      "text/plain": [
       "Time            2012       2013       2014       2015       2016      2017  \\\n",
       "[0, 18)     3896.560   3894.857   3904.410   3926.206   3929.428  3940.170   \n",
       "[18, 50)   10662.049  10522.207  10380.995  10242.756  10115.861  9994.512   \n",
       "[50, 60)    3658.046   3633.722   3597.186   3550.490   3493.772  3428.237   \n",
       "[60, 100)   6247.944   6310.568   6369.740   6418.285   6477.521  6525.149   \n",
       "\n",
       "Time           2018      2019      2020      2021    ...         2041  \\\n",
       "[0, 18)    3953.915  3966.494  3977.491  3970.460    ...     2970.327   \n",
       "[18, 50)   9876.352  9754.991  9624.826  9491.016    ...     6904.072   \n",
       "[50, 60)   3358.354  3290.137  3227.700  3166.777    ...     3326.126   \n",
       "[60, 100)  6564.443  6601.351  6638.928  6692.978    ...     6949.199   \n",
       "\n",
       "Time           2042      2043      2044      2045      2046      2047  \\\n",
       "[0, 18)    2959.738  2951.664  2945.507  2940.562  2935.910  2931.314   \n",
       "[18, 50)   6796.216  6703.678  6622.794  6550.826  6487.352  6434.050   \n",
       "[50, 60)   3253.623  3162.772  3056.924  2939.116  2806.697  2665.016   \n",
       "[60, 100)  6981.746  7014.910  7049.437  7085.615  7127.386  7167.992   \n",
       "\n",
       "Time           2048      2049      2050  \n",
       "[0, 18)    2925.972  2919.308  2910.682  \n",
       "[18, 50)   6389.765  6352.727  6320.891  \n",
       "[50, 60)   2521.266  2385.340  2264.019  \n",
       "[60, 100)  7202.250  7222.738  7225.411  \n",
       "\n",
       "[4 rows x 39 columns]"
      ]
     },
     "execution_count": 12,
     "metadata": {},
     "output_type": "execute_result"
    }
   ],
   "source": [
    "binsF = pd.cut(np.arange(101), [0, 18, 50,60,100],right=False)\n",
    "PopFemale=df2.reset_index()['PopFemale'].groupby(binsF).agg('sum')\n",
    "PopFemale"
   ]
  },
  {
   "cell_type": "markdown",
   "metadata": {},
   "source": [
    "#### try to recover demographic model by AI"
   ]
  },
  {
   "cell_type": "code",
   "execution_count": null,
   "metadata": {},
   "outputs": [],
   "source": [
    "pop=pd.read_excel('data/pop_per_year.xlsx')"
   ]
  },
  {
   "cell_type": "code",
   "execution_count": 32,
   "metadata": {},
   "outputs": [
    {
     "data": {
      "text/html": [
       "<div>\n",
       "<style scoped>\n",
       "    .dataframe tbody tr th:only-of-type {\n",
       "        vertical-align: middle;\n",
       "    }\n",
       "\n",
       "    .dataframe tbody tr th {\n",
       "        vertical-align: top;\n",
       "    }\n",
       "\n",
       "    .dataframe thead th {\n",
       "        text-align: right;\n",
       "    }\n",
       "</style>\n",
       "<table border=\"1\" class=\"dataframe\">\n",
       "  <thead>\n",
       "    <tr style=\"text-align: right;\">\n",
       "      <th></th>\n",
       "      <th>рік</th>\n",
       "      <th>вік</th>\n",
       "      <th>Обидві статі</th>\n",
       "      <th>чоловіки</th>\n",
       "      <th>жінки</th>\n",
       "    </tr>\n",
       "  </thead>\n",
       "  <tbody>\n",
       "    <tr>\n",
       "      <th>81</th>\n",
       "      <td>2013</td>\n",
       "      <td>0</td>\n",
       "      <td>517301</td>\n",
       "      <td>266820</td>\n",
       "      <td>250481</td>\n",
       "    </tr>\n",
       "    <tr>\n",
       "      <th>82</th>\n",
       "      <td>2013</td>\n",
       "      <td>1</td>\n",
       "      <td>498371</td>\n",
       "      <td>256967</td>\n",
       "      <td>241404</td>\n",
       "    </tr>\n",
       "  </tbody>\n",
       "</table>\n",
       "</div>"
      ],
      "text/plain": [
       "     рік  вік  Обидві статі   чоловіки   жінки\n",
       "81  2013    0        517301     266820  250481\n",
       "82  2013    1        498371     256967  241404"
      ]
     },
     "execution_count": 32,
     "metadata": {},
     "output_type": "execute_result"
    }
   ],
   "source": [
    "pop2013=pop[pop['рік']==2013]\n",
    "pop2013.head(2)"
   ]
  },
  {
   "cell_type": "code",
   "execution_count": 68,
   "metadata": {},
   "outputs": [
    {
     "data": {
      "text/plain": [
       "45372692"
      ]
     },
     "execution_count": 68,
     "metadata": {},
     "output_type": "execute_result"
    }
   ],
   "source": [
    "pop_total2013=pop2013['Обидві статі'].sum()\n",
    "pop_total2013"
   ]
  },
  {
   "cell_type": "code",
   "execution_count": 41,
   "metadata": {},
   "outputs": [],
   "source": [
    "fert_years=np.arange(18,50)"
   ]
  },
  {
   "cell_type": "code",
   "execution_count": 70,
   "metadata": {},
   "outputs": [],
   "source": [
    "koef2013=46\n",
    "fert2013=pop2013.loc[pop2013['вік'].isin(fert_years)][' жінки'].sum()"
   ]
  },
  {
   "cell_type": "code",
   "execution_count": 71,
   "metadata": {},
   "outputs": [
    {
     "data": {
      "text/plain": [
       "10606010"
      ]
     },
     "execution_count": 71,
     "metadata": {},
     "output_type": "execute_result"
    }
   ],
   "source": [
    "fert2013"
   ]
  },
  {
   "cell_type": "code",
   "execution_count": 72,
   "metadata": {},
   "outputs": [
    {
     "data": {
      "text/plain": [
       "487876.46"
      ]
     },
     "execution_count": 72,
     "metadata": {},
     "output_type": "execute_result"
    }
   ],
   "source": [
    "narodzh2013=fert*koef2013/1000\n",
    "narodzh2013"
   ]
  },
  {
   "cell_type": "code",
   "execution_count": 73,
   "metadata": {},
   "outputs": [
    {
     "data": {
      "text/plain": [
       "484868.7568196438"
      ]
     },
     "execution_count": 73,
     "metadata": {},
     "output_type": "execute_result"
    }
   ],
   "source": [
    "koef_zhyvinar=99.3835113134263\n",
    "zhivonar2013=narodzh2013*koef_zhyvinar/100\n",
    "zhivonar2013"
   ]
  },
  {
   "cell_type": "code",
   "execution_count": 74,
   "metadata": {
    "collapsed": true
   },
   "outputs": [
    {
     "data": {
      "text/plain": [
       "3007.703180356346"
      ]
     },
     "execution_count": 74,
     "metadata": {},
     "output_type": "execute_result"
    }
   ],
   "source": [
    "koef_mertvonar=0.616488686573717\n",
    "mertvonar2013=narodzh2013*koef_mertvonar/100\n",
    "mertvonar2013"
   ]
  },
  {
   "cell_type": "code",
   "execution_count": 75,
   "metadata": {},
   "outputs": [
    {
     "data": {
      "text/plain": [
       "661963.2351342178"
      ]
     },
     "execution_count": 75,
     "metadata": {},
     "output_type": "execute_result"
    }
   ],
   "source": [
    "koef_pomer=1.45894635287282\n",
    "pomer2013=pop_total2013*koef_pomer/100\n",
    "pomer2013"
   ]
  },
  {
   "cell_type": "code",
   "execution_count": 76,
   "metadata": {},
   "outputs": [
    {
     "data": {
      "text/html": [
       "<div>\n",
       "<style scoped>\n",
       "    .dataframe tbody tr th:only-of-type {\n",
       "        vertical-align: middle;\n",
       "    }\n",
       "\n",
       "    .dataframe tbody tr th {\n",
       "        vertical-align: top;\n",
       "    }\n",
       "\n",
       "    .dataframe thead th {\n",
       "        text-align: right;\n",
       "    }\n",
       "</style>\n",
       "<table border=\"1\" class=\"dataframe\">\n",
       "  <thead>\n",
       "    <tr style=\"text-align: right;\">\n",
       "      <th></th>\n",
       "      <th>рік</th>\n",
       "      <th>вік</th>\n",
       "      <th>Обидві статі</th>\n",
       "      <th>чоловіки</th>\n",
       "      <th>жінки</th>\n",
       "    </tr>\n",
       "  </thead>\n",
       "  <tbody>\n",
       "    <tr>\n",
       "      <th>162</th>\n",
       "      <td>2014</td>\n",
       "      <td>0</td>\n",
       "      <td>500484</td>\n",
       "      <td>257889</td>\n",
       "      <td>242595</td>\n",
       "    </tr>\n",
       "    <tr>\n",
       "      <th>163</th>\n",
       "      <td>2014</td>\n",
       "      <td>1</td>\n",
       "      <td>516810</td>\n",
       "      <td>266548</td>\n",
       "      <td>250262</td>\n",
       "    </tr>\n",
       "  </tbody>\n",
       "</table>\n",
       "</div>"
      ],
      "text/plain": [
       "      рік  вік  Обидві статі   чоловіки   жінки\n",
       "162  2014    0        500484     257889  242595\n",
       "163  2014    1        516810     266548  250262"
      ]
     },
     "execution_count": 76,
     "metadata": {},
     "output_type": "execute_result"
    }
   ],
   "source": []
  }
 ],
 "metadata": {
  "kernelspec": {
   "display_name": "Python 3",
   "language": "python",
   "name": "python3"
  },
  "language_info": {
   "codemirror_mode": {
    "name": "ipython",
    "version": 3
   },
   "file_extension": ".py",
   "mimetype": "text/x-python",
   "name": "python",
   "nbconvert_exporter": "python",
   "pygments_lexer": "ipython3",
   "version": "3.7.0"
  },
  "varInspector": {
   "cols": {
    "lenName": 16,
    "lenType": 16,
    "lenVar": 40
   },
   "kernels_config": {
    "python": {
     "delete_cmd_postfix": "",
     "delete_cmd_prefix": "del ",
     "library": "var_list.py",
     "varRefreshCmd": "print(var_dic_list())"
    },
    "r": {
     "delete_cmd_postfix": ") ",
     "delete_cmd_prefix": "rm(",
     "library": "var_list.r",
     "varRefreshCmd": "cat(var_dic_list()) "
    }
   },
   "types_to_exclude": [
    "module",
    "function",
    "builtin_function_or_method",
    "instance",
    "_Feature"
   ],
   "window_display": false
  }
 },
 "nbformat": 4,
 "nbformat_minor": 2
}
