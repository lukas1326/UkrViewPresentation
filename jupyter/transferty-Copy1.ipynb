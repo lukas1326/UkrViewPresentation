{
 "cells": [
  {
   "cell_type": "code",
   "execution_count": 1,
   "metadata": {},
   "outputs": [],
   "source": [
    "import pandas as pd"
   ]
  },
  {
   "cell_type": "markdown",
   "metadata": {},
   "source": [
    "Інформація\n",
    "про виконання показників міжбюджетних трансфертів \n",
    "(дотації вирівнювання з державного бюджету і коштів, що передаються до державного бюджету) \n",
    "та інших показників міжбюджетних відносин Державного бюджету України з місцевими бюджетами"
   ]
  },
  {
   "cell_type": "code",
   "execution_count": 2,
   "metadata": {},
   "outputs": [],
   "source": [
    "url2012='https://www.treasury.gov.ua/storage/app/uploads/public/5c0/e3e/058/5c0e3e058fe89138261075.xls'\n",
    "url2013='https://www.treasury.gov.ua/storage/app/uploads/public/5c0/e3d/fc1/5c0e3dfc1e4d2619561819.xls'\n",
    "url2014='https://www.treasury.gov.ua/storage/app/uploads/public/5c0/e3d/e34/5c0e3de3426c1015942037.xls'\n"
   ]
  },
  {
   "cell_type": "code",
   "execution_count": 3,
   "metadata": {},
   "outputs": [],
   "source": [
    "def trans(x):\n",
    "    trans2012=pd.read_excel(x)\n",
    "    trans_2012=trans2012.dropna(how='all').reset_index(drop=False)\n",
    "    zu=trans_2012[trans_2012.level_0=='Усього:'].iloc[0].dropna()\n",
    "    col_3='Розрахунковий обсяг доходів,що враховуються при визначенні міжбюджетних трансфертів'\n",
    "    col_4='Дотація вирівнювання з державного бюджету'\n",
    "    col_9='Кошти, що передаються до державного бюджету'\n",
    "    ind1=pd.Series({'name':col_3,'ind':zu[1]})\n",
    "    ind2=pd.Series({'name':col_4,'ind':zu[2]})\n",
    "    ind3=pd.Series({'name':col_9,'ind':zu[5]})\n",
    "    return ind1,ind2,ind3"
   ]
  },
  {
   "cell_type": "code",
   "execution_count": 4,
   "metadata": {},
   "outputs": [],
   "source": [
    "year12=list(trans(url2012))\n",
    "year13=list(trans(url2013))\n",
    "year14=list(trans(url2014))"
   ]
  },
  {
   "cell_type": "code",
   "execution_count": 7,
   "metadata": {},
   "outputs": [
    {
     "data": {
      "text/html": [
       "<div>\n",
       "<style scoped>\n",
       "    .dataframe tbody tr th:only-of-type {\n",
       "        vertical-align: middle;\n",
       "    }\n",
       "\n",
       "    .dataframe tbody tr th {\n",
       "        vertical-align: top;\n",
       "    }\n",
       "\n",
       "    .dataframe thead th {\n",
       "        text-align: right;\n",
       "    }\n",
       "</style>\n",
       "<table border=\"1\" class=\"dataframe\">\n",
       "  <thead>\n",
       "    <tr style=\"text-align: right;\">\n",
       "      <th></th>\n",
       "      <th>name</th>\n",
       "      <th>ind</th>\n",
       "    </tr>\n",
       "  </thead>\n",
       "  <tbody>\n",
       "    <tr>\n",
       "      <th>0</th>\n",
       "      <td>Розрахунковий обсяг доходів,що враховуються пр...</td>\n",
       "      <td>6.510507e+10</td>\n",
       "    </tr>\n",
       "    <tr>\n",
       "      <th>1</th>\n",
       "      <td>Дотація вирівнювання з державного бюджету</td>\n",
       "      <td>6.050094e+10</td>\n",
       "    </tr>\n",
       "    <tr>\n",
       "      <th>2</th>\n",
       "      <td>Кошти, що передаються до державного бюджету</td>\n",
       "      <td>1.952609e+09</td>\n",
       "    </tr>\n",
       "  </tbody>\n",
       "</table>\n",
       "</div>"
      ],
      "text/plain": [
       "                                                name           ind\n",
       "0  Розрахунковий обсяг доходів,що враховуються пр...  6.510507e+10\n",
       "1          Дотація вирівнювання з державного бюджету  6.050094e+10\n",
       "2        Кошти, що передаються до державного бюджету  1.952609e+09"
      ]
     },
     "execution_count": 7,
     "metadata": {},
     "output_type": "execute_result"
    }
   ],
   "source": [
    "pd.DataFrame(year14)"
   ]
  }
 ],
 "metadata": {
  "kernelspec": {
   "display_name": "Python 3",
   "language": "python",
   "name": "python3"
  },
  "language_info": {
   "codemirror_mode": {
    "name": "ipython",
    "version": 3
   },
   "file_extension": ".py",
   "mimetype": "text/x-python",
   "name": "python",
   "nbconvert_exporter": "python",
   "pygments_lexer": "ipython3",
   "version": "3.7.0"
  },
  "varInspector": {
   "cols": {
    "lenName": 16,
    "lenType": 16,
    "lenVar": 40
   },
   "kernels_config": {
    "python": {
     "delete_cmd_postfix": "",
     "delete_cmd_prefix": "del ",
     "library": "var_list.py",
     "varRefreshCmd": "print(var_dic_list())"
    },
    "r": {
     "delete_cmd_postfix": ") ",
     "delete_cmd_prefix": "rm(",
     "library": "var_list.r",
     "varRefreshCmd": "cat(var_dic_list()) "
    }
   },
   "types_to_exclude": [
    "module",
    "function",
    "builtin_function_or_method",
    "instance",
    "_Feature"
   ],
   "window_display": false
  }
 },
 "nbformat": 4,
 "nbformat_minor": 2
}
